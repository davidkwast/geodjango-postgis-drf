{
 "cells": [
  {
   "cell_type": "code",
   "execution_count": 1,
   "metadata": {
    "scrolled": true,
    "slideshow": {
     "slide_type": "skip"
    }
   },
   "outputs": [],
   "source": [
    "URL_SLIDES = 'https://davidkwast.github.io/slides/geodjango-postgis-drf'\n",
    "\n",
    "import os\n",
    "os.environ['DJANGO_SETTINGS_MODULE'] = 'restgis.settings'\n",
    "\n",
    "import json\n",
    "\n",
    "from IPython import display\n",
    "\n",
    "import requests\n",
    "\n",
    "import django\n",
    "django.setup()\n",
    "\n",
    "from django.conf import settings"
   ]
  },
  {
   "cell_type": "markdown",
   "metadata": {
    "slideshow": {
     "slide_type": "slide"
    }
   },
   "source": [
    "# GeoDjango + PostGIS + DRF\n",
    "\n",
    "\n",
    "---\n",
    "---\n",
    "\n",
    "## david.kwast@scicrop.com\n",
    "\n",
    "### Technology Specialist @ https://SciCrop.com\n",
    "\n",
    "---\n",
    "\n",
    "## https://davidkwast.github.io/slides/geodjango-postgis-drf"
   ]
  },
  {
   "cell_type": "markdown",
   "metadata": {
    "slideshow": {
     "slide_type": "slide"
    }
   },
   "source": [
    "## Código-fonte\n",
    "\n",
    "---\n",
    "\n",
    "### https://github.com/davidkwast/geodjango-postgis-drf"
   ]
  },
  {
   "cell_type": "markdown",
   "metadata": {
    "slideshow": {
     "slide_type": "slide"
    }
   },
   "source": [
    "## Dependências"
   ]
  },
  {
   "cell_type": "code",
   "execution_count": 2,
   "metadata": {
    "scrolled": true
   },
   "outputs": [
    {
     "data": {
      "text/html": [
       "<style>.output_html .hll { background-color: #ffffcc }\n",
       ".output_html  { background: #f8f8f8; }\n",
       ".output_html .c { color: #408080; font-style: italic } /* Comment */\n",
       ".output_html .err { border: 1px solid #FF0000 } /* Error */\n",
       ".output_html .k { color: #008000; font-weight: bold } /* Keyword */\n",
       ".output_html .o { color: #666666 } /* Operator */\n",
       ".output_html .ch { color: #408080; font-style: italic } /* Comment.Hashbang */\n",
       ".output_html .cm { color: #408080; font-style: italic } /* Comment.Multiline */\n",
       ".output_html .cp { color: #BC7A00 } /* Comment.Preproc */\n",
       ".output_html .cpf { color: #408080; font-style: italic } /* Comment.PreprocFile */\n",
       ".output_html .c1 { color: #408080; font-style: italic } /* Comment.Single */\n",
       ".output_html .cs { color: #408080; font-style: italic } /* Comment.Special */\n",
       ".output_html .gd { color: #A00000 } /* Generic.Deleted */\n",
       ".output_html .ge { font-style: italic } /* Generic.Emph */\n",
       ".output_html .gr { color: #FF0000 } /* Generic.Error */\n",
       ".output_html .gh { color: #000080; font-weight: bold } /* Generic.Heading */\n",
       ".output_html .gi { color: #00A000 } /* Generic.Inserted */\n",
       ".output_html .go { color: #888888 } /* Generic.Output */\n",
       ".output_html .gp { color: #000080; font-weight: bold } /* Generic.Prompt */\n",
       ".output_html .gs { font-weight: bold } /* Generic.Strong */\n",
       ".output_html .gu { color: #800080; font-weight: bold } /* Generic.Subheading */\n",
       ".output_html .gt { color: #0044DD } /* Generic.Traceback */\n",
       ".output_html .kc { color: #008000; font-weight: bold } /* Keyword.Constant */\n",
       ".output_html .kd { color: #008000; font-weight: bold } /* Keyword.Declaration */\n",
       ".output_html .kn { color: #008000; font-weight: bold } /* Keyword.Namespace */\n",
       ".output_html .kp { color: #008000 } /* Keyword.Pseudo */\n",
       ".output_html .kr { color: #008000; font-weight: bold } /* Keyword.Reserved */\n",
       ".output_html .kt { color: #B00040 } /* Keyword.Type */\n",
       ".output_html .m { color: #666666 } /* Literal.Number */\n",
       ".output_html .s { color: #BA2121 } /* Literal.String */\n",
       ".output_html .na { color: #7D9029 } /* Name.Attribute */\n",
       ".output_html .nb { color: #008000 } /* Name.Builtin */\n",
       ".output_html .nc { color: #0000FF; font-weight: bold } /* Name.Class */\n",
       ".output_html .no { color: #880000 } /* Name.Constant */\n",
       ".output_html .nd { color: #AA22FF } /* Name.Decorator */\n",
       ".output_html .ni { color: #999999; font-weight: bold } /* Name.Entity */\n",
       ".output_html .ne { color: #D2413A; font-weight: bold } /* Name.Exception */\n",
       ".output_html .nf { color: #0000FF } /* Name.Function */\n",
       ".output_html .nl { color: #A0A000 } /* Name.Label */\n",
       ".output_html .nn { color: #0000FF; font-weight: bold } /* Name.Namespace */\n",
       ".output_html .nt { color: #008000; font-weight: bold } /* Name.Tag */\n",
       ".output_html .nv { color: #19177C } /* Name.Variable */\n",
       ".output_html .ow { color: #AA22FF; font-weight: bold } /* Operator.Word */\n",
       ".output_html .w { color: #bbbbbb } /* Text.Whitespace */\n",
       ".output_html .mb { color: #666666 } /* Literal.Number.Bin */\n",
       ".output_html .mf { color: #666666 } /* Literal.Number.Float */\n",
       ".output_html .mh { color: #666666 } /* Literal.Number.Hex */\n",
       ".output_html .mi { color: #666666 } /* Literal.Number.Integer */\n",
       ".output_html .mo { color: #666666 } /* Literal.Number.Oct */\n",
       ".output_html .sa { color: #BA2121 } /* Literal.String.Affix */\n",
       ".output_html .sb { color: #BA2121 } /* Literal.String.Backtick */\n",
       ".output_html .sc { color: #BA2121 } /* Literal.String.Char */\n",
       ".output_html .dl { color: #BA2121 } /* Literal.String.Delimiter */\n",
       ".output_html .sd { color: #BA2121; font-style: italic } /* Literal.String.Doc */\n",
       ".output_html .s2 { color: #BA2121 } /* Literal.String.Double */\n",
       ".output_html .se { color: #BB6622; font-weight: bold } /* Literal.String.Escape */\n",
       ".output_html .sh { color: #BA2121 } /* Literal.String.Heredoc */\n",
       ".output_html .si { color: #BB6688; font-weight: bold } /* Literal.String.Interpol */\n",
       ".output_html .sx { color: #008000 } /* Literal.String.Other */\n",
       ".output_html .sr { color: #BB6688 } /* Literal.String.Regex */\n",
       ".output_html .s1 { color: #BA2121 } /* Literal.String.Single */\n",
       ".output_html .ss { color: #19177C } /* Literal.String.Symbol */\n",
       ".output_html .bp { color: #008000 } /* Name.Builtin.Pseudo */\n",
       ".output_html .fm { color: #0000FF } /* Name.Function.Magic */\n",
       ".output_html .vc { color: #19177C } /* Name.Variable.Class */\n",
       ".output_html .vg { color: #19177C } /* Name.Variable.Global */\n",
       ".output_html .vi { color: #19177C } /* Name.Variable.Instance */\n",
       ".output_html .vm { color: #19177C } /* Name.Variable.Magic */\n",
       ".output_html .il { color: #666666 } /* Literal.Number.Integer.Long */</style><div class=\"highlight\"><pre><span></span><span class=\"k\">[[source]]</span>\n",
       "<span class=\"n\">name</span> <span class=\"o\">=</span> <span class=\"s\">&quot;pypi&quot;</span>\n",
       "<span class=\"n\">url</span> <span class=\"o\">=</span> <span class=\"s\">&quot;https://pypi.org/simple&quot;</span>\n",
       "<span class=\"n\">verify_ssl</span> <span class=\"o\">=</span> <span class=\"kc\">true</span>\n",
       "\n",
       "<span class=\"k\">[dev-packages]</span>\n",
       "<span class=\"n\">jupyter</span> <span class=\"o\">=</span> <span class=\"s\">&quot;*&quot;</span>\n",
       "<span class=\"n\">ipython</span> <span class=\"o\">=</span> <span class=\"s\">&quot;*&quot;</span>\n",
       "\n",
       "<span class=\"k\">[packages]</span>\n",
       "<span class=\"n\">django</span> <span class=\"o\">=</span> <span class=\"s\">&quot;*&quot;</span>\n",
       "<span class=\"n\">psycopg2-binary</span> <span class=\"o\">=</span> <span class=\"s\">&quot;*&quot;</span>\n",
       "<span class=\"n\">djangorestframework</span> <span class=\"o\">=</span> <span class=\"s\">&quot;*&quot;</span>\n",
       "<span class=\"n\">numpy</span> <span class=\"o\">=</span> <span class=\"s\">&quot;*&quot;</span>\n",
       "<span class=\"n\">gdal</span> <span class=\"o\">=</span> <span class=\"s\">&quot;==2.2.3&quot;</span>\n",
       "<span class=\"n\">python-decouple</span> <span class=\"o\">=</span> <span class=\"s\">&quot;*&quot;</span>\n",
       "<span class=\"n\">requests</span> <span class=\"o\">=</span> <span class=\"s\">&quot;*&quot;</span>\n",
       "<span class=\"n\">rasterio</span> <span class=\"o\">=</span> <span class=\"s\">&quot;*&quot;</span>\n",
       "\n",
       "<span class=\"k\">[requires]</span>\n",
       "<span class=\"n\">python_version</span> <span class=\"o\">=</span> <span class=\"s\">&quot;3.7&quot;</span>\n",
       "</pre></div>\n"
      ],
      "text/latex": [
       "\\begin{Verbatim}[commandchars=\\\\\\{\\}]\n",
       "\\PY{k}{[[source]]}\n",
       "\\PY{n}{name} \\PY{o}{=} \\PY{l+s}{\\PYZdq{}pypi\\PYZdq{}}\n",
       "\\PY{n}{url} \\PY{o}{=} \\PY{l+s}{\\PYZdq{}https://pypi.org/simple\\PYZdq{}}\n",
       "\\PY{n}{verify\\PYZus{}ssl} \\PY{o}{=} \\PY{k+kc}{true}\n",
       "\n",
       "\\PY{k}{[dev\\PYZhy{}packages]}\n",
       "\\PY{n}{jupyter} \\PY{o}{=} \\PY{l+s}{\\PYZdq{}*\\PYZdq{}}\n",
       "\\PY{n}{ipython} \\PY{o}{=} \\PY{l+s}{\\PYZdq{}*\\PYZdq{}}\n",
       "\n",
       "\\PY{k}{[packages]}\n",
       "\\PY{n}{django} \\PY{o}{=} \\PY{l+s}{\\PYZdq{}*\\PYZdq{}}\n",
       "\\PY{n}{psycopg2\\PYZhy{}binary} \\PY{o}{=} \\PY{l+s}{\\PYZdq{}*\\PYZdq{}}\n",
       "\\PY{n}{djangorestframework} \\PY{o}{=} \\PY{l+s}{\\PYZdq{}*\\PYZdq{}}\n",
       "\\PY{n}{numpy} \\PY{o}{=} \\PY{l+s}{\\PYZdq{}*\\PYZdq{}}\n",
       "\\PY{n}{gdal} \\PY{o}{=} \\PY{l+s}{\\PYZdq{}==2.2.3\\PYZdq{}}\n",
       "\\PY{n}{python\\PYZhy{}decouple} \\PY{o}{=} \\PY{l+s}{\\PYZdq{}*\\PYZdq{}}\n",
       "\\PY{n}{requests} \\PY{o}{=} \\PY{l+s}{\\PYZdq{}*\\PYZdq{}}\n",
       "\\PY{n}{rasterio} \\PY{o}{=} \\PY{l+s}{\\PYZdq{}*\\PYZdq{}}\n",
       "\n",
       "\\PY{k}{[requires]}\n",
       "\\PY{n}{python\\PYZus{}version} \\PY{o}{=} \\PY{l+s}{\\PYZdq{}3.7\\PYZdq{}}\n",
       "\\end{Verbatim}\n"
      ],
      "text/plain": [
       "[[source]]\n",
       "name = \"pypi\"\n",
       "url = \"https://pypi.org/simple\"\n",
       "verify_ssl = true\n",
       "\n",
       "[dev-packages]\n",
       "jupyter = \"*\"\n",
       "ipython = \"*\"\n",
       "\n",
       "[packages]\n",
       "django = \"*\"\n",
       "psycopg2-binary = \"*\"\n",
       "djangorestframework = \"*\"\n",
       "numpy = \"*\"\n",
       "gdal = \"==2.2.3\"\n",
       "python-decouple = \"*\"\n",
       "requests = \"*\"\n",
       "rasterio = \"*\"\n",
       "\n",
       "[requires]\n",
       "python_version = \"3.7\""
      ]
     },
     "execution_count": 2,
     "metadata": {},
     "output_type": "execute_result"
    }
   ],
   "source": [
    "display.Code(filename='./Pipfile', language='toml')"
   ]
  },
  {
   "cell_type": "markdown",
   "metadata": {},
   "source": [
    "\\* Ubuntu 18.04"
   ]
  },
  {
   "cell_type": "markdown",
   "metadata": {
    "slideshow": {
     "slide_type": "subslide"
    }
   },
   "source": [
    "### GDAL\n",
    "a translator library for raster and vector geospatial data formats \n",
    "\n",
    "#### Sistema Operacional\n",
    "\n",
    "```console\n",
    "foo@bar:~$ apt install gdal-bin libgdal-dev\n",
    "\n",
    "foo@bar:~$ gdalinfo --version\n",
    "GDAL 2.2.3, released 2017/11/20\n",
    "```\n",
    "\n",
    "#### Pip(Env)\n",
    "\n",
    "```console\n",
    "foo@bar:~$ pipenv install numpy\n",
    "\n",
    "foo@bar:~$ export CPLUS_INCLUDE_PATH=/usr/include/gdal\n",
    "foo@bar:~$ export C_INCLUDE_PATH=/usr/include/gdal\n",
    "foo@bar:~$ pipenv install \"gdal==2.2.3\"\n",
    "```\n",
    "\n",
    "#### Python\n",
    "\n",
    "```python\n",
    "from osgeo import gdal; gdal.UseExceptions() # type: ignore\n",
    "from osgeo import ogr; ogr.UseExceptions() # type: ignore\n",
    "```\n",
    "\n",
    "---\n",
    "\n",
    "- https://gdal.org/python/\n",
    "- https://gdal.org/about.html#what-is-gdal"
   ]
  },
  {
   "cell_type": "markdown",
   "metadata": {
    "slideshow": {
     "slide_type": "subslide"
    }
   },
   "source": [
    "### PostgreSQL + PostGIS\n",
    "\n",
    "\n",
    "#### Python\n",
    "\n",
    "```console\n",
    "foo@bar:~$ pipenv install psycopg2-binary\n",
    "```\n",
    "\n",
    "#### SQL\n",
    "\n",
    "```SQL\n",
    "CREATE EXTENSION POSTGIS;\n",
    "```\n",
    "\n",
    "---\n",
    "\n",
    "- https://pypi.org/project/psycopg2-binary/\n",
    "  - The binary package is a practical choice for development and testing but in production it is advised to use the package built from sources.\n",
    "- https://postgis.net/documentation/"
   ]
  },
  {
   "cell_type": "markdown",
   "metadata": {
    "slideshow": {
     "slide_type": "subslide"
    }
   },
   "source": [
    "### Django + GeoDjango + DRF\n",
    "\n",
    "#### settings.py\n",
    "```python\n",
    "...\n",
    "INSTALLED_APPS = [\n",
    "    ...\n",
    "    'django.contrib.gis',\n",
    "    'rest_framework',\n",
    "    ...\n",
    "]\n",
    "...\n",
    "DATABASES = {\n",
    "    'default': {\n",
    "        'ENGINE': 'django.contrib.gis.db.backends.postgis',\n",
    "        ...\n",
    "    },\n",
    "}\n",
    "...\n",
    "```\n",
    "\n",
    "#### models.py\n",
    "```python\n",
    "from django.contrib.gis.db import models\n",
    "```\n",
    "---\n",
    "\n",
    "- https://docs.djangoproject.com/en/2.2/ref/contrib/gis/"
   ]
  },
  {
   "cell_type": "markdown",
   "metadata": {
    "slideshow": {
     "slide_type": "slide"
    }
   },
   "source": [
    "## Django\n",
    "\n",
    "### shell\n",
    "```console\n",
    "foo@bar:~$ django-admin startproject restgis .\n",
    "\n",
    "foo@bar:~$ mkdir restgis/geoapi\n",
    "\n",
    "foo@bar:~$ python manage.py startapp geoapi restgis/geoapi\n",
    "```\n",
    "\n",
    "---\n",
    "- https://docs.python-guide.org/writing/structure/#regarding-django-applications"
   ]
  },
  {
   "cell_type": "markdown",
   "metadata": {
    "slideshow": {
     "slide_type": "subslide"
    }
   },
   "source": [
    "```console\n",
    "\n",
    "foo@bar:~$ ls -l restgis/\n",
    "total 16\n",
    "drwxrwxr-x 3 kwast kwast 4096 mai 24 16:40 geoapi\n",
    "-rw-rw-r-- 1 kwast kwast    0 mai 24 16:37 __init__.py\n",
    "-rw-rw-r-- 1 kwast kwast 3091 mai 24 16:37 settings.py\n",
    "-rw-rw-r-- 1 kwast kwast  749 mai 24 16:37 urls.py\n",
    "-rw-rw-r-- 1 kwast kwast  391 mai 24 16:37 wsgi.py\n",
    "\n",
    "foo@bar:~$ ls -l restgis/geoapi/\n",
    "total 24\n",
    "-rw-rw-r-- 1 kwast kwast   63 mai 24 16:40 admin.py\n",
    "-rw-rw-r-- 1 kwast kwast   87 mai 24 16:40 apps.py\n",
    "-rw-rw-r-- 1 kwast kwast    0 mai 24 16:40 __init__.py\n",
    "drwxrwxr-x 2 kwast kwast 4096 mai 24 16:40 migrations\n",
    "-rw-rw-r-- 1 kwast kwast   57 mai 24 16:40 models.py\n",
    "-rw-rw-r-- 1 kwast kwast   60 mai 24 16:40 tests.py\n",
    "-rw-rw-r-- 1 kwast kwast   63 mai 24 16:40 views.py\n",
    "```"
   ]
  },
  {
   "cell_type": "code",
   "execution_count": 3,
   "metadata": {
    "slideshow": {
     "slide_type": "slide"
    }
   },
   "outputs": [
    {
     "data": {
      "text/plain": [
       "['django.contrib.auth',\n",
       " 'django.contrib.contenttypes',\n",
       " 'django.contrib.staticfiles',\n",
       " 'django.contrib.gis',\n",
       " 'rest_framework',\n",
       " 'restgis.geoapi']"
      ]
     },
     "execution_count": 3,
     "metadata": {},
     "output_type": "execute_result"
    }
   ],
   "source": [
    "settings.INSTALLED_APPS"
   ]
  },
  {
   "cell_type": "markdown",
   "metadata": {
    "slideshow": {
     "slide_type": "slide"
    }
   },
   "source": [
    "```console\n",
    "foo@bar:~$ python manage.py runserver\n",
    "Watching for file changes with StatReloader\n",
    "Performing system checks...\n",
    "\n",
    "System check identified no issues (0 silenced).\n",
    "\n",
    "May 25, 2019 - 02:29:36\n",
    "Django version 2.2.1, using settings 'restgis.settings'\n",
    "Starting development server at http://127.0.0.1:8000/\n",
    "Quit the server with CONTROL-C.\n",
    "```"
   ]
  },
  {
   "cell_type": "code",
   "execution_count": 4,
   "metadata": {
    "slideshow": {
     "slide_type": "fragment"
    }
   },
   "outputs": [],
   "source": [
    "HOST = 'http://127.0.0.1:8000'"
   ]
  },
  {
   "cell_type": "code",
   "execution_count": 5,
   "metadata": {
    "slideshow": {
     "slide_type": "slide"
    }
   },
   "outputs": [
    {
     "data": {
      "text/plain": [
       "{'data': 'OK'}"
      ]
     },
     "execution_count": 5,
     "metadata": {},
     "output_type": "execute_result"
    }
   ],
   "source": [
    "requests.get(f'{HOST}/api/test').json()"
   ]
  },
  {
   "cell_type": "code",
   "execution_count": 6,
   "metadata": {
    "slideshow": {
     "slide_type": "fragment"
    }
   },
   "outputs": [
    {
     "data": {
      "text/html": [
       "<style>.output_html .hll { background-color: #ffffcc }\n",
       ".output_html  { background: #f8f8f8; }\n",
       ".output_html .c { color: #408080; font-style: italic } /* Comment */\n",
       ".output_html .err { border: 1px solid #FF0000 } /* Error */\n",
       ".output_html .k { color: #008000; font-weight: bold } /* Keyword */\n",
       ".output_html .o { color: #666666 } /* Operator */\n",
       ".output_html .ch { color: #408080; font-style: italic } /* Comment.Hashbang */\n",
       ".output_html .cm { color: #408080; font-style: italic } /* Comment.Multiline */\n",
       ".output_html .cp { color: #BC7A00 } /* Comment.Preproc */\n",
       ".output_html .cpf { color: #408080; font-style: italic } /* Comment.PreprocFile */\n",
       ".output_html .c1 { color: #408080; font-style: italic } /* Comment.Single */\n",
       ".output_html .cs { color: #408080; font-style: italic } /* Comment.Special */\n",
       ".output_html .gd { color: #A00000 } /* Generic.Deleted */\n",
       ".output_html .ge { font-style: italic } /* Generic.Emph */\n",
       ".output_html .gr { color: #FF0000 } /* Generic.Error */\n",
       ".output_html .gh { color: #000080; font-weight: bold } /* Generic.Heading */\n",
       ".output_html .gi { color: #00A000 } /* Generic.Inserted */\n",
       ".output_html .go { color: #888888 } /* Generic.Output */\n",
       ".output_html .gp { color: #000080; font-weight: bold } /* Generic.Prompt */\n",
       ".output_html .gs { font-weight: bold } /* Generic.Strong */\n",
       ".output_html .gu { color: #800080; font-weight: bold } /* Generic.Subheading */\n",
       ".output_html .gt { color: #0044DD } /* Generic.Traceback */\n",
       ".output_html .kc { color: #008000; font-weight: bold } /* Keyword.Constant */\n",
       ".output_html .kd { color: #008000; font-weight: bold } /* Keyword.Declaration */\n",
       ".output_html .kn { color: #008000; font-weight: bold } /* Keyword.Namespace */\n",
       ".output_html .kp { color: #008000 } /* Keyword.Pseudo */\n",
       ".output_html .kr { color: #008000; font-weight: bold } /* Keyword.Reserved */\n",
       ".output_html .kt { color: #B00040 } /* Keyword.Type */\n",
       ".output_html .m { color: #666666 } /* Literal.Number */\n",
       ".output_html .s { color: #BA2121 } /* Literal.String */\n",
       ".output_html .na { color: #7D9029 } /* Name.Attribute */\n",
       ".output_html .nb { color: #008000 } /* Name.Builtin */\n",
       ".output_html .nc { color: #0000FF; font-weight: bold } /* Name.Class */\n",
       ".output_html .no { color: #880000 } /* Name.Constant */\n",
       ".output_html .nd { color: #AA22FF } /* Name.Decorator */\n",
       ".output_html .ni { color: #999999; font-weight: bold } /* Name.Entity */\n",
       ".output_html .ne { color: #D2413A; font-weight: bold } /* Name.Exception */\n",
       ".output_html .nf { color: #0000FF } /* Name.Function */\n",
       ".output_html .nl { color: #A0A000 } /* Name.Label */\n",
       ".output_html .nn { color: #0000FF; font-weight: bold } /* Name.Namespace */\n",
       ".output_html .nt { color: #008000; font-weight: bold } /* Name.Tag */\n",
       ".output_html .nv { color: #19177C } /* Name.Variable */\n",
       ".output_html .ow { color: #AA22FF; font-weight: bold } /* Operator.Word */\n",
       ".output_html .w { color: #bbbbbb } /* Text.Whitespace */\n",
       ".output_html .mb { color: #666666 } /* Literal.Number.Bin */\n",
       ".output_html .mf { color: #666666 } /* Literal.Number.Float */\n",
       ".output_html .mh { color: #666666 } /* Literal.Number.Hex */\n",
       ".output_html .mi { color: #666666 } /* Literal.Number.Integer */\n",
       ".output_html .mo { color: #666666 } /* Literal.Number.Oct */\n",
       ".output_html .sa { color: #BA2121 } /* Literal.String.Affix */\n",
       ".output_html .sb { color: #BA2121 } /* Literal.String.Backtick */\n",
       ".output_html .sc { color: #BA2121 } /* Literal.String.Char */\n",
       ".output_html .dl { color: #BA2121 } /* Literal.String.Delimiter */\n",
       ".output_html .sd { color: #BA2121; font-style: italic } /* Literal.String.Doc */\n",
       ".output_html .s2 { color: #BA2121 } /* Literal.String.Double */\n",
       ".output_html .se { color: #BB6622; font-weight: bold } /* Literal.String.Escape */\n",
       ".output_html .sh { color: #BA2121 } /* Literal.String.Heredoc */\n",
       ".output_html .si { color: #BB6688; font-weight: bold } /* Literal.String.Interpol */\n",
       ".output_html .sx { color: #008000 } /* Literal.String.Other */\n",
       ".output_html .sr { color: #BB6688 } /* Literal.String.Regex */\n",
       ".output_html .s1 { color: #BA2121 } /* Literal.String.Single */\n",
       ".output_html .ss { color: #19177C } /* Literal.String.Symbol */\n",
       ".output_html .bp { color: #008000 } /* Name.Builtin.Pseudo */\n",
       ".output_html .fm { color: #0000FF } /* Name.Function.Magic */\n",
       ".output_html .vc { color: #19177C } /* Name.Variable.Class */\n",
       ".output_html .vg { color: #19177C } /* Name.Variable.Global */\n",
       ".output_html .vi { color: #19177C } /* Name.Variable.Instance */\n",
       ".output_html .vm { color: #19177C } /* Name.Variable.Magic */\n",
       ".output_html .il { color: #666666 } /* Literal.Number.Integer.Long */</style><div class=\"highlight\"><pre><span></span><span class=\"kn\">from</span> <span class=\"nn\">rest_framework.decorators</span> <span class=\"kn\">import</span> <span class=\"n\">api_view</span>\n",
       "<span class=\"kn\">from</span> <span class=\"nn\">rest_framework.response</span> <span class=\"kn\">import</span> <span class=\"n\">Response</span>\n",
       "\n",
       "<span class=\"c1\"># urls.py: path(&#39;api/test&#39;, test_api.test_view)</span>\n",
       "\n",
       "<span class=\"nd\">@api_view</span><span class=\"p\">([</span><span class=\"s1\">&#39;GET&#39;</span><span class=\"p\">])</span>\n",
       "<span class=\"k\">def</span> <span class=\"nf\">test_view</span><span class=\"p\">(</span><span class=\"n\">request</span><span class=\"p\">):</span>\n",
       "    <span class=\"k\">return</span> <span class=\"n\">Response</span><span class=\"p\">({</span><span class=\"s1\">&#39;data&#39;</span><span class=\"p\">:</span> <span class=\"s1\">&#39;OK&#39;</span><span class=\"p\">})</span>\n",
       "</pre></div>\n"
      ],
      "text/latex": [
       "\\begin{Verbatim}[commandchars=\\\\\\{\\}]\n",
       "\\PY{k+kn}{from} \\PY{n+nn}{rest\\PYZus{}framework.decorators} \\PY{k+kn}{import} \\PY{n}{api\\PYZus{}view}\n",
       "\\PY{k+kn}{from} \\PY{n+nn}{rest\\PYZus{}framework.response} \\PY{k+kn}{import} \\PY{n}{Response}\n",
       "\n",
       "\\PY{c+c1}{\\PYZsh{} urls.py: path(\\PYZsq{}api/test\\PYZsq{}, test\\PYZus{}api.test\\PYZus{}view)}\n",
       "\n",
       "\\PY{n+nd}{@api\\PYZus{}view}\\PY{p}{(}\\PY{p}{[}\\PY{l+s+s1}{\\PYZsq{}}\\PY{l+s+s1}{GET}\\PY{l+s+s1}{\\PYZsq{}}\\PY{p}{]}\\PY{p}{)}\n",
       "\\PY{k}{def} \\PY{n+nf}{test\\PYZus{}view}\\PY{p}{(}\\PY{n}{request}\\PY{p}{)}\\PY{p}{:}\n",
       "    \\PY{k}{return} \\PY{n}{Response}\\PY{p}{(}\\PY{p}{\\PYZob{}}\\PY{l+s+s1}{\\PYZsq{}}\\PY{l+s+s1}{data}\\PY{l+s+s1}{\\PYZsq{}}\\PY{p}{:} \\PY{l+s+s1}{\\PYZsq{}}\\PY{l+s+s1}{OK}\\PY{l+s+s1}{\\PYZsq{}}\\PY{p}{\\PYZcb{}}\\PY{p}{)}\n",
       "\\end{Verbatim}\n"
      ],
      "text/plain": [
       "from rest_framework.decorators import api_view\n",
       "from rest_framework.response import Response\n",
       "\n",
       "# urls.py: path('api/test', test_api.test_view)\n",
       "\n",
       "@api_view(['GET'])\n",
       "def test_view(request):\n",
       "    return Response({'data': 'OK'})"
      ]
     },
     "execution_count": 6,
     "metadata": {},
     "output_type": "execute_result"
    }
   ],
   "source": [
    "display.Code(filename='./restgis/geoapi/api/test_api.py')"
   ]
  },
  {
   "cell_type": "code",
   "execution_count": 7,
   "metadata": {
    "slideshow": {
     "slide_type": "slide"
    }
   },
   "outputs": [
    {
     "data": {
      "text/html": [
       "<img src=\"https://davidkwast.github.io/slides/geodjango-postgis-drf/img/shape_01.jpeg\"/>"
      ],
      "text/plain": [
       "<IPython.core.display.Image object>"
      ]
     },
     "execution_count": 7,
     "metadata": {},
     "output_type": "execute_result"
    }
   ],
   "source": [
    "display.Image(url=f'{URL_SLIDES}/img/shape_01.jpeg')"
   ]
  },
  {
   "cell_type": "code",
   "execution_count": 8,
   "metadata": {
    "slideshow": {
     "slide_type": "slide"
    }
   },
   "outputs": [
    {
     "data": {
      "text/plain": [
       "'{\\n\"type\": \"FeatureCollection\",\\n\"name\": \"shape_01\",\\n\"crs\": { \"type\": \"name\", \"properties\": { \"name\": \"urn:ogc:def:crs:OGC:1.3:CRS84\" } },\\n\"bbox\": [ -48.6402438646664, -20.5393768147456, -48.5981384932181, -20.5085360970577 ],                                            \\n\"features\": [\\n{ \"type\": \"Feature\", \"properties\": { }, \"bbox\": [ -48.640243864666353, -20.539376814745559, -48.598138493218052, -20.508536097057721 ], \"geometry\": { \"type\": \"Polygon\", \"coordinates\": [ [ [ -48.613525653306546, -20.539376814745559 ], [ -48.599828357554578, -20.53250532378005 ], [ -48.599868341793368, -20.531094920705844 ], [ -48.598138493218052, -20.530224383908301 ], [ -48.603904136255373, -20.510849848246412 ], [ -48.611882887195065, -20.513973707861521 ], [ -48.618676458824758, -20.508536097057721 ], [ -48.631333790383366, -20.515961838296558 ], [ -48.640243864666353, -20.524046928396679 ], [ -48.628488307851818, -20.532668463505793 ], [ -48.620319645413332, -20.535536469294023 ], [ -48.617507062580827, -20.536090430877291 ], [ -48.613525653306546, -20.539376814745559 ] ] ] } }\\n]\\n}\\n'"
      ]
     },
     "execution_count": 8,
     "metadata": {},
     "output_type": "execute_result"
    }
   ],
   "source": [
    "shape_raw = requests.get(f'{URL_SLIDES}/shapes/shape_01.geojson').text\n",
    "\n",
    "shape_raw"
   ]
  },
  {
   "cell_type": "code",
   "execution_count": 9,
   "metadata": {
    "slideshow": {
     "slide_type": "slide"
    }
   },
   "outputs": [
    {
     "data": {
      "text/plain": [
       "{'type': 'FeatureCollection',\n",
       " 'name': 'shape_01',\n",
       " 'crs': {'type': 'name',\n",
       "  'properties': {'name': 'urn:ogc:def:crs:OGC:1.3:CRS84'}},\n",
       " 'bbox': [-48.6402438646664,\n",
       "  -20.5393768147456,\n",
       "  -48.5981384932181,\n",
       "  -20.5085360970577],\n",
       " 'features': [{'type': 'Feature',\n",
       "   'properties': {},\n",
       "   'bbox': [-48.64024386466635,\n",
       "    -20.53937681474556,\n",
       "    -48.59813849321805,\n",
       "    -20.50853609705772],\n",
       "   'geometry': {'type': 'Polygon',\n",
       "    'coordinates': [[[-48.613525653306546, -20.53937681474556],\n",
       "      [-48.59982835755458, -20.53250532378005],\n",
       "      [-48.59986834179337, -20.531094920705844],\n",
       "      [-48.59813849321805, -20.5302243839083],\n",
       "      [-48.60390413625537, -20.510849848246412],\n",
       "      [-48.611882887195065, -20.51397370786152],\n",
       "      [-48.61867645882476, -20.50853609705772],\n",
       "      [-48.631333790383366, -20.51596183829656],\n",
       "      [-48.64024386466635, -20.52404692839668],\n",
       "      [-48.62848830785182, -20.532668463505793],\n",
       "      [-48.62031964541333, -20.535536469294023],\n",
       "      [-48.61750706258083, -20.53609043087729],\n",
       "      [-48.613525653306546, -20.53937681474556]]]}}]}"
      ]
     },
     "execution_count": 9,
     "metadata": {},
     "output_type": "execute_result"
    }
   ],
   "source": [
    "shape = json.loads(shape_raw)\n",
    "\n",
    "shape"
   ]
  },
  {
   "cell_type": "code",
   "execution_count": 10,
   "metadata": {
    "slideshow": {
     "slide_type": "slide"
    }
   },
   "outputs": [
    {
     "data": {
      "text/plain": [
       "{'type': 'Polygon',\n",
       " 'coordinates': [[[-48.613525653306546, -20.53937681474556],\n",
       "   [-48.59982835755458, -20.53250532378005],\n",
       "   [-48.59986834179337, -20.531094920705844],\n",
       "   [-48.59813849321805, -20.5302243839083],\n",
       "   [-48.60390413625537, -20.510849848246412],\n",
       "   [-48.611882887195065, -20.51397370786152],\n",
       "   [-48.61867645882476, -20.50853609705772],\n",
       "   [-48.631333790383366, -20.51596183829656],\n",
       "   [-48.64024386466635, -20.52404692839668],\n",
       "   [-48.62848830785182, -20.532668463505793],\n",
       "   [-48.62031964541333, -20.535536469294023],\n",
       "   [-48.61750706258083, -20.53609043087729],\n",
       "   [-48.613525653306546, -20.53937681474556]]]}"
      ]
     },
     "execution_count": 10,
     "metadata": {},
     "output_type": "execute_result"
    }
   ],
   "source": [
    "shape_geometry = shape['features'][0]['geometry']\n",
    "\n",
    "shape_geometry"
   ]
  },
  {
   "cell_type": "markdown",
   "metadata": {
    "slideshow": {
     "slide_type": "slide"
    }
   },
   "source": [
    "## Obter o centróide de um polígono"
   ]
  },
  {
   "cell_type": "code",
   "execution_count": 11,
   "metadata": {
    "slideshow": {
     "slide_type": "fragment"
    }
   },
   "outputs": [
    {
     "data": {
      "text/plain": [
       "{'type': 'Point', 'coordinates': [-48.61704533932971, -20.52394830288685]}"
      ]
     },
     "execution_count": 11,
     "metadata": {},
     "output_type": "execute_result"
    }
   ],
   "source": [
    "requests.post(url=f'{HOST}/api/shape/centroid', json=shape_geometry).json()"
   ]
  },
  {
   "cell_type": "code",
   "execution_count": 12,
   "metadata": {
    "slideshow": {
     "slide_type": "fragment"
    }
   },
   "outputs": [
    {
     "data": {
      "text/html": [
       "<style>.output_html .hll { background-color: #ffffcc }\n",
       ".output_html  { background: #f8f8f8; }\n",
       ".output_html .c { color: #408080; font-style: italic } /* Comment */\n",
       ".output_html .err { border: 1px solid #FF0000 } /* Error */\n",
       ".output_html .k { color: #008000; font-weight: bold } /* Keyword */\n",
       ".output_html .o { color: #666666 } /* Operator */\n",
       ".output_html .ch { color: #408080; font-style: italic } /* Comment.Hashbang */\n",
       ".output_html .cm { color: #408080; font-style: italic } /* Comment.Multiline */\n",
       ".output_html .cp { color: #BC7A00 } /* Comment.Preproc */\n",
       ".output_html .cpf { color: #408080; font-style: italic } /* Comment.PreprocFile */\n",
       ".output_html .c1 { color: #408080; font-style: italic } /* Comment.Single */\n",
       ".output_html .cs { color: #408080; font-style: italic } /* Comment.Special */\n",
       ".output_html .gd { color: #A00000 } /* Generic.Deleted */\n",
       ".output_html .ge { font-style: italic } /* Generic.Emph */\n",
       ".output_html .gr { color: #FF0000 } /* Generic.Error */\n",
       ".output_html .gh { color: #000080; font-weight: bold } /* Generic.Heading */\n",
       ".output_html .gi { color: #00A000 } /* Generic.Inserted */\n",
       ".output_html .go { color: #888888 } /* Generic.Output */\n",
       ".output_html .gp { color: #000080; font-weight: bold } /* Generic.Prompt */\n",
       ".output_html .gs { font-weight: bold } /* Generic.Strong */\n",
       ".output_html .gu { color: #800080; font-weight: bold } /* Generic.Subheading */\n",
       ".output_html .gt { color: #0044DD } /* Generic.Traceback */\n",
       ".output_html .kc { color: #008000; font-weight: bold } /* Keyword.Constant */\n",
       ".output_html .kd { color: #008000; font-weight: bold } /* Keyword.Declaration */\n",
       ".output_html .kn { color: #008000; font-weight: bold } /* Keyword.Namespace */\n",
       ".output_html .kp { color: #008000 } /* Keyword.Pseudo */\n",
       ".output_html .kr { color: #008000; font-weight: bold } /* Keyword.Reserved */\n",
       ".output_html .kt { color: #B00040 } /* Keyword.Type */\n",
       ".output_html .m { color: #666666 } /* Literal.Number */\n",
       ".output_html .s { color: #BA2121 } /* Literal.String */\n",
       ".output_html .na { color: #7D9029 } /* Name.Attribute */\n",
       ".output_html .nb { color: #008000 } /* Name.Builtin */\n",
       ".output_html .nc { color: #0000FF; font-weight: bold } /* Name.Class */\n",
       ".output_html .no { color: #880000 } /* Name.Constant */\n",
       ".output_html .nd { color: #AA22FF } /* Name.Decorator */\n",
       ".output_html .ni { color: #999999; font-weight: bold } /* Name.Entity */\n",
       ".output_html .ne { color: #D2413A; font-weight: bold } /* Name.Exception */\n",
       ".output_html .nf { color: #0000FF } /* Name.Function */\n",
       ".output_html .nl { color: #A0A000 } /* Name.Label */\n",
       ".output_html .nn { color: #0000FF; font-weight: bold } /* Name.Namespace */\n",
       ".output_html .nt { color: #008000; font-weight: bold } /* Name.Tag */\n",
       ".output_html .nv { color: #19177C } /* Name.Variable */\n",
       ".output_html .ow { color: #AA22FF; font-weight: bold } /* Operator.Word */\n",
       ".output_html .w { color: #bbbbbb } /* Text.Whitespace */\n",
       ".output_html .mb { color: #666666 } /* Literal.Number.Bin */\n",
       ".output_html .mf { color: #666666 } /* Literal.Number.Float */\n",
       ".output_html .mh { color: #666666 } /* Literal.Number.Hex */\n",
       ".output_html .mi { color: #666666 } /* Literal.Number.Integer */\n",
       ".output_html .mo { color: #666666 } /* Literal.Number.Oct */\n",
       ".output_html .sa { color: #BA2121 } /* Literal.String.Affix */\n",
       ".output_html .sb { color: #BA2121 } /* Literal.String.Backtick */\n",
       ".output_html .sc { color: #BA2121 } /* Literal.String.Char */\n",
       ".output_html .dl { color: #BA2121 } /* Literal.String.Delimiter */\n",
       ".output_html .sd { color: #BA2121; font-style: italic } /* Literal.String.Doc */\n",
       ".output_html .s2 { color: #BA2121 } /* Literal.String.Double */\n",
       ".output_html .se { color: #BB6622; font-weight: bold } /* Literal.String.Escape */\n",
       ".output_html .sh { color: #BA2121 } /* Literal.String.Heredoc */\n",
       ".output_html .si { color: #BB6688; font-weight: bold } /* Literal.String.Interpol */\n",
       ".output_html .sx { color: #008000 } /* Literal.String.Other */\n",
       ".output_html .sr { color: #BB6688 } /* Literal.String.Regex */\n",
       ".output_html .s1 { color: #BA2121 } /* Literal.String.Single */\n",
       ".output_html .ss { color: #19177C } /* Literal.String.Symbol */\n",
       ".output_html .bp { color: #008000 } /* Name.Builtin.Pseudo */\n",
       ".output_html .fm { color: #0000FF } /* Name.Function.Magic */\n",
       ".output_html .vc { color: #19177C } /* Name.Variable.Class */\n",
       ".output_html .vg { color: #19177C } /* Name.Variable.Global */\n",
       ".output_html .vi { color: #19177C } /* Name.Variable.Instance */\n",
       ".output_html .vm { color: #19177C } /* Name.Variable.Magic */\n",
       ".output_html .il { color: #666666 } /* Literal.Number.Integer.Long */</style><div class=\"highlight\"><pre><span></span><span class=\"kn\">from</span> <span class=\"nn\">rest_framework.decorators</span> <span class=\"kn\">import</span> <span class=\"n\">api_view</span>\n",
       "<span class=\"kn\">from</span> <span class=\"nn\">rest_framework.response</span> <span class=\"kn\">import</span> <span class=\"n\">Response</span>\n",
       "\n",
       "<span class=\"kn\">import</span> <span class=\"nn\">json</span>\n",
       "<span class=\"kn\">from</span> <span class=\"nn\">osgeo</span> <span class=\"kn\">import</span> <span class=\"n\">ogr</span><span class=\"p\">;</span> <span class=\"n\">ogr</span><span class=\"o\">.</span><span class=\"n\">UseExceptions</span><span class=\"p\">()</span>\n",
       "\n",
       "<span class=\"c1\"># urls.py: path(&#39;api/shape/centroid&#39;, shape_centroid.view)</span>\n",
       "\n",
       "<span class=\"nd\">@api_view</span><span class=\"p\">([</span><span class=\"s1\">&#39;POST&#39;</span><span class=\"p\">])</span>\n",
       "<span class=\"k\">def</span> <span class=\"nf\">view</span><span class=\"p\">(</span><span class=\"n\">request</span><span class=\"p\">):</span>\n",
       "    \n",
       "    <span class=\"n\">input_str_geojson</span> <span class=\"o\">=</span> <span class=\"n\">request</span><span class=\"o\">.</span><span class=\"n\">body</span><span class=\"o\">.</span><span class=\"n\">decode</span><span class=\"p\">(</span><span class=\"s1\">&#39;utf-8&#39;</span><span class=\"p\">)</span>\n",
       "    \n",
       "    <span class=\"n\">ogr_geom</span> <span class=\"o\">=</span> <span class=\"n\">ogr</span><span class=\"o\">.</span><span class=\"n\">CreateGeometryFromJson</span><span class=\"p\">(</span><span class=\"n\">input_str_geojson</span><span class=\"p\">)</span>\n",
       "    \n",
       "    <span class=\"n\">ogr_point</span> <span class=\"o\">=</span> <span class=\"n\">ogr_geom</span><span class=\"o\">.</span><span class=\"n\">Centroid</span><span class=\"p\">()</span>\n",
       "    \n",
       "    <span class=\"n\">raw_json</span> <span class=\"o\">=</span> <span class=\"n\">ogr_point</span><span class=\"o\">.</span><span class=\"n\">ExportToJson</span><span class=\"p\">()</span>\n",
       "    \n",
       "    <span class=\"k\">return</span> <span class=\"n\">Response</span><span class=\"p\">(</span><span class=\"n\">json</span><span class=\"o\">.</span><span class=\"n\">loads</span><span class=\"p\">(</span><span class=\"n\">raw_json</span><span class=\"p\">))</span>\n",
       "</pre></div>\n"
      ],
      "text/latex": [
       "\\begin{Verbatim}[commandchars=\\\\\\{\\}]\n",
       "\\PY{k+kn}{from} \\PY{n+nn}{rest\\PYZus{}framework.decorators} \\PY{k+kn}{import} \\PY{n}{api\\PYZus{}view}\n",
       "\\PY{k+kn}{from} \\PY{n+nn}{rest\\PYZus{}framework.response} \\PY{k+kn}{import} \\PY{n}{Response}\n",
       "\n",
       "\\PY{k+kn}{import} \\PY{n+nn}{json}\n",
       "\\PY{k+kn}{from} \\PY{n+nn}{osgeo} \\PY{k+kn}{import} \\PY{n}{ogr}\\PY{p}{;} \\PY{n}{ogr}\\PY{o}{.}\\PY{n}{UseExceptions}\\PY{p}{(}\\PY{p}{)}\n",
       "\n",
       "\\PY{c+c1}{\\PYZsh{} urls.py: path(\\PYZsq{}api/shape/centroid\\PYZsq{}, shape\\PYZus{}centroid.view)}\n",
       "\n",
       "\\PY{n+nd}{@api\\PYZus{}view}\\PY{p}{(}\\PY{p}{[}\\PY{l+s+s1}{\\PYZsq{}}\\PY{l+s+s1}{POST}\\PY{l+s+s1}{\\PYZsq{}}\\PY{p}{]}\\PY{p}{)}\n",
       "\\PY{k}{def} \\PY{n+nf}{view}\\PY{p}{(}\\PY{n}{request}\\PY{p}{)}\\PY{p}{:}\n",
       "    \n",
       "    \\PY{n}{input\\PYZus{}str\\PYZus{}geojson} \\PY{o}{=} \\PY{n}{request}\\PY{o}{.}\\PY{n}{body}\\PY{o}{.}\\PY{n}{decode}\\PY{p}{(}\\PY{l+s+s1}{\\PYZsq{}}\\PY{l+s+s1}{utf\\PYZhy{}8}\\PY{l+s+s1}{\\PYZsq{}}\\PY{p}{)}\n",
       "    \n",
       "    \\PY{n}{ogr\\PYZus{}geom} \\PY{o}{=} \\PY{n}{ogr}\\PY{o}{.}\\PY{n}{CreateGeometryFromJson}\\PY{p}{(}\\PY{n}{input\\PYZus{}str\\PYZus{}geojson}\\PY{p}{)}\n",
       "    \n",
       "    \\PY{n}{ogr\\PYZus{}point} \\PY{o}{=} \\PY{n}{ogr\\PYZus{}geom}\\PY{o}{.}\\PY{n}{Centroid}\\PY{p}{(}\\PY{p}{)}\n",
       "    \n",
       "    \\PY{n}{raw\\PYZus{}json} \\PY{o}{=} \\PY{n}{ogr\\PYZus{}point}\\PY{o}{.}\\PY{n}{ExportToJson}\\PY{p}{(}\\PY{p}{)}\n",
       "    \n",
       "    \\PY{k}{return} \\PY{n}{Response}\\PY{p}{(}\\PY{n}{json}\\PY{o}{.}\\PY{n}{loads}\\PY{p}{(}\\PY{n}{raw\\PYZus{}json}\\PY{p}{)}\\PY{p}{)}\n",
       "\\end{Verbatim}\n"
      ],
      "text/plain": [
       "from rest_framework.decorators import api_view\n",
       "from rest_framework.response import Response\n",
       "\n",
       "import json\n",
       "from osgeo import ogr; ogr.UseExceptions()\n",
       "\n",
       "# urls.py: path('api/shape/centroid', shape_centroid.view)\n",
       "\n",
       "@api_view(['POST'])\n",
       "def view(request):\n",
       "    \n",
       "    input_str_geojson = request.body.decode('utf-8')\n",
       "    \n",
       "    ogr_geom = ogr.CreateGeometryFromJson(input_str_geojson)\n",
       "    \n",
       "    ogr_point = ogr_geom.Centroid()\n",
       "    \n",
       "    raw_json = ogr_point.ExportToJson()\n",
       "    \n",
       "    return Response(json.loads(raw_json))"
      ]
     },
     "execution_count": 12,
     "metadata": {},
     "output_type": "execute_result"
    }
   ],
   "source": [
    "display.Code(filename='./restgis/geoapi/api/shape_centroid.py')"
   ]
  },
  {
   "cell_type": "code",
   "execution_count": 13,
   "metadata": {
    "slideshow": {
     "slide_type": "slide"
    }
   },
   "outputs": [
    {
     "data": {
      "text/html": [
       "<img src=\"https://davidkwast.github.io/slides/geodjango-postgis-drf/img/satelite_01.jpeg\"/>"
      ],
      "text/plain": [
       "<IPython.core.display.Image object>"
      ]
     },
     "execution_count": 13,
     "metadata": {},
     "output_type": "execute_result"
    }
   ],
   "source": [
    "display.Image(url=f'{URL_SLIDES}/img/satelite_01.jpeg')"
   ]
  },
  {
   "cell_type": "markdown",
   "metadata": {
    "slideshow": {
     "slide_type": "slide"
    }
   },
   "source": [
    "## Cortar imagem de satélite"
   ]
  },
  {
   "cell_type": "code",
   "execution_count": 14,
   "metadata": {
    "slideshow": {
     "slide_type": "fragment"
    }
   },
   "outputs": [
    {
     "name": "stdout",
     "output_type": "stream",
     "text": [
      "CPU times: user 6.34 ms, sys: 0 ns, total: 6.34 ms\n",
      "Wall time: 629 ms\n"
     ]
    }
   ],
   "source": [
    "%%time\n",
    "response = requests.post(\n",
    "    url = f'{HOST}/api/shape/crop',\n",
    "    json = shape_geometry,\n",
    "    headers = {\n",
    "        'Accept': 'image/png',\n",
    "    }\n",
    ")"
   ]
  },
  {
   "cell_type": "code",
   "execution_count": 15,
   "metadata": {
    "slideshow": {
     "slide_type": "fragment"
    }
   },
   "outputs": [
    {
     "data": {
      "text/plain": [
       "'image/png'"
      ]
     },
     "execution_count": 15,
     "metadata": {},
     "output_type": "execute_result"
    }
   ],
   "source": [
    "response.headers['Content-Type']"
   ]
  },
  {
   "cell_type": "code",
   "execution_count": 16,
   "metadata": {
    "slideshow": {
     "slide_type": "fragment"
    }
   },
   "outputs": [
    {
     "data": {
      "text/plain": [
       "b'\\x89PNG\\r\\n\\x1a\\n\\x00\\x00\\x00\\rIHDR\\x00\\x00\\x01\\xc5\\x00\\x00\\x01L\\x08\\x06\\x00\\x00\\x00\\xba~\\xa7\\x94\\x00\\x00 \\x00IDATx\\x9c\\xec\\xbd\\xe9\\xb3e\\xd7q\\xdd\\xf9\\xcb\\xdc\\xfb\\xdc\\xfb\\x86\\x1a1\\x90\\x80(\\xa0@\\x88\\xa4,[\\xb2H\\x0c\\x04Q\\x05\\x80\\x00\\xe9n\\xbb#\\xda\\x9f\\xfa\\xef\\xecO\\x1e$[\\xad\\x99\\x83\\x1cnKr\\x87\\xdbj'"
      ]
     },
     "execution_count": 16,
     "metadata": {},
     "output_type": "execute_result"
    }
   ],
   "source": [
    "response.content[:100]"
   ]
  },
  {
   "cell_type": "code",
   "execution_count": 17,
   "metadata": {
    "slideshow": {
     "slide_type": "fragment"
    }
   },
   "outputs": [
    {
     "data": {
      "text/plain": [
       "139182"
      ]
     },
     "execution_count": 17,
     "metadata": {},
     "output_type": "execute_result"
    }
   ],
   "source": [
    "len(response.content)"
   ]
  },
  {
   "cell_type": "code",
   "execution_count": 18,
   "metadata": {
    "slideshow": {
     "slide_type": "slide"
    }
   },
   "outputs": [
    {
     "data": {
      "image/png": "[encoded data removed]",
      "text/plain": [
       "<IPython.core.display.Image object>"
      ]
     },
     "execution_count": 18,
     "metadata": {},
     "output_type": "execute_result"
    }
   ],
   "source": [
    "display.Image(data=response.content)"
   ]
  },
  {
   "cell_type": "markdown",
   "metadata": {
    "slideshow": {
     "slide_type": "slide"
    }
   },
   "source": [
    "./restgis/geoapi/api/shape_crop.py\n",
    "\n",
    "```python\n",
    "from rest_framework.decorators import api_view\n",
    "from rest_framework.response import Response\n",
    "\n",
    "from django.conf import settings\n",
    "import tempfile\n",
    "import json\n",
    "from pathlib import Path\n",
    "import numpy as np\n",
    "import rasterio\n",
    "import rasterio.mask\n",
    "from rasterio.vrt import WarpedVRT\n",
    "\n",
    "# urls.py: path('api/shape/crop', shape_crop.view)\n",
    "\n",
    "@api_view(['POST'])\n",
    "def view(request):\n",
    "```\n",
    "..."
   ]
  },
  {
   "cell_type": "markdown",
   "metadata": {
    "slideshow": {
     "slide_type": "slide"
    }
   },
   "source": [
    "...\n",
    "\n",
    "```python\n",
    "input_geojson = json.loads(request.body)\n",
    "\n",
    "tci_rasterio = rasterio.open(settings.DEMO_IMAGE_SATELITE_FS_PATH)\n",
    "tci_rasterio_dataset = WarpedVRT(tci_rasterio, crs='EPSG:4326')\n",
    "\n",
    "tci_array, tci_affine = rasterio.mask.mask(\n",
    "    tci_rasterio_dataset,\n",
    "    [input_geojson],\n",
    "    indexes = None,\n",
    "    crop = True,\n",
    "    all_touched = False,\n",
    "    invert = False,\n",
    "    nodata = 0, #np.nan,\n",
    "    filled = True,\n",
    "    pad = False,\n",
    ")\n",
    "\n",
    "tci_x_size, tci_y_size = tci_array.shape[2], tci_array.shape[1] # Z,Y,X\n",
    "```\n",
    "..."
   ]
  },
  {
   "cell_type": "markdown",
   "metadata": {
    "slideshow": {
     "slide_type": "slide"
    }
   },
   "source": [
    "...\n",
    "\n",
    "```python\n",
    "with tempfile.TemporaryDirectory() as tmpdirname:\n",
    "\n",
    "    tci_image_path = Path(tmpdirname).joinpath('tci.png')\n",
    "\n",
    "    with rasterio.open(\n",
    "        tci_image_path, 'w', driver='PNG',       \n",
    "        dtype = 'uint8', count = 4,\n",
    "        width = tci_x_size, height = tci_y_size,\n",
    "        transform = tci_affine\n",
    "    ) as tci_rast_fd:\n",
    "\n",
    "        tci_rast_fd.write(tci_array[0], 1)\n",
    "        tci_rast_fd.write(tci_array[1], 2)\n",
    "        tci_rast_fd.write(tci_array[2], 3)\n",
    "        tci_rast_fd.write(\n",
    "            np.asarray(\n",
    "                np.where(tci_array[0] > 0, 255, 0),\n",
    "                dtype = np.uint8\n",
    "            ),\n",
    "            4\n",
    "        )\n",
    "\n",
    "    with open(tci_image_path ,'rb') as fd:\n",
    "        payload = fd.read()\n",
    "\n",
    "return Response(payload, content_type='image/png')\n",
    "```"
   ]
  },
  {
   "cell_type": "markdown",
   "metadata": {
    "slideshow": {
     "slide_type": "slide"
    }
   },
   "source": [
    "## Models"
   ]
  },
  {
   "cell_type": "code",
   "execution_count": 19,
   "metadata": {
    "slideshow": {
     "slide_type": "fragment"
    }
   },
   "outputs": [
    {
     "data": {
      "text/html": [
       "<style>.output_html .hll { background-color: #ffffcc }\n",
       ".output_html  { background: #f8f8f8; }\n",
       ".output_html .c { color: #408080; font-style: italic } /* Comment */\n",
       ".output_html .err { border: 1px solid #FF0000 } /* Error */\n",
       ".output_html .k { color: #008000; font-weight: bold } /* Keyword */\n",
       ".output_html .o { color: #666666 } /* Operator */\n",
       ".output_html .ch { color: #408080; font-style: italic } /* Comment.Hashbang */\n",
       ".output_html .cm { color: #408080; font-style: italic } /* Comment.Multiline */\n",
       ".output_html .cp { color: #BC7A00 } /* Comment.Preproc */\n",
       ".output_html .cpf { color: #408080; font-style: italic } /* Comment.PreprocFile */\n",
       ".output_html .c1 { color: #408080; font-style: italic } /* Comment.Single */\n",
       ".output_html .cs { color: #408080; font-style: italic } /* Comment.Special */\n",
       ".output_html .gd { color: #A00000 } /* Generic.Deleted */\n",
       ".output_html .ge { font-style: italic } /* Generic.Emph */\n",
       ".output_html .gr { color: #FF0000 } /* Generic.Error */\n",
       ".output_html .gh { color: #000080; font-weight: bold } /* Generic.Heading */\n",
       ".output_html .gi { color: #00A000 } /* Generic.Inserted */\n",
       ".output_html .go { color: #888888 } /* Generic.Output */\n",
       ".output_html .gp { color: #000080; font-weight: bold } /* Generic.Prompt */\n",
       ".output_html .gs { font-weight: bold } /* Generic.Strong */\n",
       ".output_html .gu { color: #800080; font-weight: bold } /* Generic.Subheading */\n",
       ".output_html .gt { color: #0044DD } /* Generic.Traceback */\n",
       ".output_html .kc { color: #008000; font-weight: bold } /* Keyword.Constant */\n",
       ".output_html .kd { color: #008000; font-weight: bold } /* Keyword.Declaration */\n",
       ".output_html .kn { color: #008000; font-weight: bold } /* Keyword.Namespace */\n",
       ".output_html .kp { color: #008000 } /* Keyword.Pseudo */\n",
       ".output_html .kr { color: #008000; font-weight: bold } /* Keyword.Reserved */\n",
       ".output_html .kt { color: #B00040 } /* Keyword.Type */\n",
       ".output_html .m { color: #666666 } /* Literal.Number */\n",
       ".output_html .s { color: #BA2121 } /* Literal.String */\n",
       ".output_html .na { color: #7D9029 } /* Name.Attribute */\n",
       ".output_html .nb { color: #008000 } /* Name.Builtin */\n",
       ".output_html .nc { color: #0000FF; font-weight: bold } /* Name.Class */\n",
       ".output_html .no { color: #880000 } /* Name.Constant */\n",
       ".output_html .nd { color: #AA22FF } /* Name.Decorator */\n",
       ".output_html .ni { color: #999999; font-weight: bold } /* Name.Entity */\n",
       ".output_html .ne { color: #D2413A; font-weight: bold } /* Name.Exception */\n",
       ".output_html .nf { color: #0000FF } /* Name.Function */\n",
       ".output_html .nl { color: #A0A000 } /* Name.Label */\n",
       ".output_html .nn { color: #0000FF; font-weight: bold } /* Name.Namespace */\n",
       ".output_html .nt { color: #008000; font-weight: bold } /* Name.Tag */\n",
       ".output_html .nv { color: #19177C } /* Name.Variable */\n",
       ".output_html .ow { color: #AA22FF; font-weight: bold } /* Operator.Word */\n",
       ".output_html .w { color: #bbbbbb } /* Text.Whitespace */\n",
       ".output_html .mb { color: #666666 } /* Literal.Number.Bin */\n",
       ".output_html .mf { color: #666666 } /* Literal.Number.Float */\n",
       ".output_html .mh { color: #666666 } /* Literal.Number.Hex */\n",
       ".output_html .mi { color: #666666 } /* Literal.Number.Integer */\n",
       ".output_html .mo { color: #666666 } /* Literal.Number.Oct */\n",
       ".output_html .sa { color: #BA2121 } /* Literal.String.Affix */\n",
       ".output_html .sb { color: #BA2121 } /* Literal.String.Backtick */\n",
       ".output_html .sc { color: #BA2121 } /* Literal.String.Char */\n",
       ".output_html .dl { color: #BA2121 } /* Literal.String.Delimiter */\n",
       ".output_html .sd { color: #BA2121; font-style: italic } /* Literal.String.Doc */\n",
       ".output_html .s2 { color: #BA2121 } /* Literal.String.Double */\n",
       ".output_html .se { color: #BB6622; font-weight: bold } /* Literal.String.Escape */\n",
       ".output_html .sh { color: #BA2121 } /* Literal.String.Heredoc */\n",
       ".output_html .si { color: #BB6688; font-weight: bold } /* Literal.String.Interpol */\n",
       ".output_html .sx { color: #008000 } /* Literal.String.Other */\n",
       ".output_html .sr { color: #BB6688 } /* Literal.String.Regex */\n",
       ".output_html .s1 { color: #BA2121 } /* Literal.String.Single */\n",
       ".output_html .ss { color: #19177C } /* Literal.String.Symbol */\n",
       ".output_html .bp { color: #008000 } /* Name.Builtin.Pseudo */\n",
       ".output_html .fm { color: #0000FF } /* Name.Function.Magic */\n",
       ".output_html .vc { color: #19177C } /* Name.Variable.Class */\n",
       ".output_html .vg { color: #19177C } /* Name.Variable.Global */\n",
       ".output_html .vi { color: #19177C } /* Name.Variable.Instance */\n",
       ".output_html .vm { color: #19177C } /* Name.Variable.Magic */\n",
       ".output_html .il { color: #666666 } /* Literal.Number.Integer.Long */</style><div class=\"highlight\"><pre><span></span><span class=\"kn\">from</span> <span class=\"nn\">django.contrib.gis.db</span> <span class=\"kn\">import</span> <span class=\"n\">models</span>\n",
       "\n",
       "<span class=\"k\">class</span> <span class=\"nc\">Point</span><span class=\"p\">(</span><span class=\"n\">models</span><span class=\"o\">.</span><span class=\"n\">Model</span><span class=\"p\">):</span>\n",
       "    <span class=\"n\">name</span> <span class=\"o\">=</span> <span class=\"n\">models</span><span class=\"o\">.</span><span class=\"n\">CharField</span><span class=\"p\">(</span><span class=\"n\">max_length</span><span class=\"o\">=</span><span class=\"mi\">100</span><span class=\"p\">,</span> <span class=\"n\">unique</span><span class=\"o\">=</span><span class=\"bp\">True</span><span class=\"p\">)</span>\n",
       "    <span class=\"n\">geometry</span> <span class=\"o\">=</span> <span class=\"n\">models</span><span class=\"o\">.</span><span class=\"n\">PointField</span><span class=\"p\">()</span>\n",
       "\n",
       "<span class=\"k\">class</span> <span class=\"nc\">Polygon</span><span class=\"p\">(</span><span class=\"n\">models</span><span class=\"o\">.</span><span class=\"n\">Model</span><span class=\"p\">):</span>\n",
       "    <span class=\"n\">name</span> <span class=\"o\">=</span> <span class=\"n\">models</span><span class=\"o\">.</span><span class=\"n\">CharField</span><span class=\"p\">(</span><span class=\"n\">max_length</span><span class=\"o\">=</span><span class=\"mi\">100</span><span class=\"p\">,</span> <span class=\"n\">unique</span><span class=\"o\">=</span><span class=\"bp\">True</span><span class=\"p\">)</span>\n",
       "    <span class=\"n\">geometry</span> <span class=\"o\">=</span> <span class=\"n\">models</span><span class=\"o\">.</span><span class=\"n\">PolygonField</span><span class=\"p\">()</span>\n",
       "</pre></div>\n"
      ],
      "text/latex": [
       "\\begin{Verbatim}[commandchars=\\\\\\{\\}]\n",
       "\\PY{k+kn}{from} \\PY{n+nn}{django.contrib.gis.db} \\PY{k+kn}{import} \\PY{n}{models}\n",
       "\n",
       "\\PY{k}{class} \\PY{n+nc}{Point}\\PY{p}{(}\\PY{n}{models}\\PY{o}{.}\\PY{n}{Model}\\PY{p}{)}\\PY{p}{:}\n",
       "    \\PY{n}{name} \\PY{o}{=} \\PY{n}{models}\\PY{o}{.}\\PY{n}{CharField}\\PY{p}{(}\\PY{n}{max\\PYZus{}length}\\PY{o}{=}\\PY{l+m+mi}{100}\\PY{p}{,} \\PY{n}{unique}\\PY{o}{=}\\PY{n+nb+bp}{True}\\PY{p}{)}\n",
       "    \\PY{n}{geometry} \\PY{o}{=} \\PY{n}{models}\\PY{o}{.}\\PY{n}{PointField}\\PY{p}{(}\\PY{p}{)}\n",
       "\n",
       "\\PY{k}{class} \\PY{n+nc}{Polygon}\\PY{p}{(}\\PY{n}{models}\\PY{o}{.}\\PY{n}{Model}\\PY{p}{)}\\PY{p}{:}\n",
       "    \\PY{n}{name} \\PY{o}{=} \\PY{n}{models}\\PY{o}{.}\\PY{n}{CharField}\\PY{p}{(}\\PY{n}{max\\PYZus{}length}\\PY{o}{=}\\PY{l+m+mi}{100}\\PY{p}{,} \\PY{n}{unique}\\PY{o}{=}\\PY{n+nb+bp}{True}\\PY{p}{)}\n",
       "    \\PY{n}{geometry} \\PY{o}{=} \\PY{n}{models}\\PY{o}{.}\\PY{n}{PolygonField}\\PY{p}{(}\\PY{p}{)}\n",
       "\\end{Verbatim}\n"
      ],
      "text/plain": [
       "from django.contrib.gis.db import models\n",
       "\n",
       "class Point(models.Model):\n",
       "    name = models.CharField(max_length=100, unique=True)\n",
       "    geometry = models.PointField()\n",
       "\n",
       "class Polygon(models.Model):\n",
       "    name = models.CharField(max_length=100, unique=True)\n",
       "    geometry = models.PolygonField()"
      ]
     },
     "execution_count": 19,
     "metadata": {},
     "output_type": "execute_result"
    }
   ],
   "source": [
    "display.Code(filename='./restgis/geoapi/models.py')"
   ]
  },
  {
   "cell_type": "markdown",
   "metadata": {
    "slideshow": {
     "slide_type": "fragment"
    }
   },
   "source": [
    "---\n",
    "- https://docs.djangoproject.com/en/2.2/ref/contrib/gis/model-api/"
   ]
  },
  {
   "cell_type": "markdown",
   "metadata": {
    "slideshow": {
     "slide_type": "slide"
    }
   },
   "source": [
    "```console\n",
    "foo@bar:~$ python manage.py makemigrations\n",
    "Migrations for 'geoapi':\n",
    "  restgis/geoapi/migrations/0001_initial.py\n",
    "    - Create model Point\n",
    "    - Create model Polygon\n",
    "\n",
    "foo@bar:~$ python manage.py migrate\n",
    "Operations to perform:\n",
    "  Apply all migrations: auth, contenttypes, geoapi\n",
    "Running migrations:\n",
    "  Applying contenttypes.0001_initial... OK\n",
    "  Applying contenttypes.0002_remove_content_type_name... OK\n",
    "  Applying auth.0001_initial... OK\n",
    "  Applying auth.0002_alter_permission_name_max_length... OK\n",
    "  Applying auth.0003_alter_user_email_max_length... OK\n",
    "  Applying auth.0004_alter_user_username_opts... OK\n",
    "  Applying auth.0005_alter_user_last_login_null... OK\n",
    "  Applying auth.0006_require_contenttypes_0002... OK\n",
    "  Applying auth.0007_alter_validators_add_error_messages... OK\n",
    "  Applying auth.0008_alter_user_username_max_length... OK\n",
    "  Applying auth.0009_alter_user_last_name_max_length... OK\n",
    "  Applying auth.0010_alter_group_name_max_length... OK\n",
    "  Applying auth.0011_update_proxy_permissions... OK\n",
    "  Applying geoapi.0001_initial... OK\n",
    "```"
   ]
  },
  {
   "cell_type": "markdown",
   "metadata": {
    "slideshow": {
     "slide_type": "slide"
    }
   },
   "source": [
    "```sql\n",
    "--\n",
    "-- Create model Point\n",
    "--\n",
    "CREATE TABLE \"geoapi_point\" (\n",
    "    \"id\" serial NOT NULL PRIMARY KEY,\n",
    "    \"name\" varchar(100) NOT NULL UNIQUE,\n",
    "    \"geometry\" geometry(POINT,4326) NOT NULL\n",
    ");\n",
    "--\n",
    "-- Create model Polygon\n",
    "--\n",
    "CREATE TABLE \"geoapi_polygon\" (\n",
    "    \"id\" serial NOT NULL PRIMARY KEY,\n",
    "    \"name\" varchar(100) NOT NULL UNIQUE,\n",
    "    \"geometry\" geometry(POLYGON,4326) NOT NULL\n",
    ");\n",
    "--\n",
    "--\n",
    "CREATE INDEX \"geoapi_point_name_c7d56075_like\" ON \"geoapi_point\" (\"name\" varchar_pattern_ops);\n",
    "CREATE INDEX \"geoapi_point_geometry_id\" ON \"geoapi_point\"USING GIST (\"geometry\");\n",
    "CREATE INDEX \"geoapi_polygon_name_d010f373_like\" ON \"geoapi_polygon\" (\"name\" varchar_pattern_ops);\n",
    "CREATE INDEX \"geoapi_polygon_geometry_id\" ON \"geoapi_polygon\"USING GIST (\"geometry\");\n",
    "```"
   ]
  },
  {
   "cell_type": "code",
   "execution_count": 20,
   "metadata": {
    "slideshow": {
     "slide_type": "slide"
    }
   },
   "outputs": [],
   "source": [
    "from restgis.geoapi import models\n",
    "from django.contrib.gis import geos"
   ]
  },
  {
   "cell_type": "code",
   "execution_count": 21,
   "metadata": {},
   "outputs": [
    {
     "data": {
      "text/plain": [
       "(1, {'geoapi.Point': 1})"
      ]
     },
     "execution_count": 21,
     "metadata": {},
     "output_type": "execute_result"
    }
   ],
   "source": [
    "models.Point.objects.all().delete()"
   ]
  },
  {
   "cell_type": "code",
   "execution_count": 22,
   "metadata": {},
   "outputs": [
    {
     "data": {
      "text/plain": [
       "(1, {'geoapi.Polygon': 1})"
      ]
     },
     "execution_count": 22,
     "metadata": {},
     "output_type": "execute_result"
    }
   ],
   "source": [
    "models.Polygon.objects.all().delete()"
   ]
  },
  {
   "cell_type": "code",
   "execution_count": 23,
   "metadata": {
    "slideshow": {
     "slide_type": "slide"
    }
   },
   "outputs": [
    {
     "data": {
      "text/plain": [
       "{'type': 'Point', 'coordinates': [-48.61704533932971, -20.52394830288685]}"
      ]
     },
     "execution_count": 23,
     "metadata": {},
     "output_type": "execute_result"
    }
   ],
   "source": [
    "centroid_dict = requests.post(url=f'{HOST}/api/shape/centroid', json=shape_geometry).json()\n",
    "centroid_dict"
   ]
  },
  {
   "cell_type": "code",
   "execution_count": 24,
   "metadata": {
    "slideshow": {
     "slide_type": "fragment"
    }
   },
   "outputs": [
    {
     "data": {
      "text/plain": [
       "<Point: Point object (7)>"
      ]
     },
     "execution_count": 24,
     "metadata": {},
     "output_type": "execute_result"
    }
   ],
   "source": [
    "centroid_obj = models.Point.objects.create(\n",
    "    name = 'centroid',\n",
    "    geometry = geos.Point(centroid_dict['coordinates']),\n",
    ")\n",
    "centroid_obj"
   ]
  },
  {
   "cell_type": "code",
   "execution_count": 25,
   "metadata": {
    "slideshow": {
     "slide_type": "fragment"
    }
   },
   "outputs": [
    {
     "data": {
      "text/plain": [
       "('centroid', <Point object at 0x7fbe5be223c8>)"
      ]
     },
     "execution_count": 25,
     "metadata": {},
     "output_type": "execute_result"
    }
   ],
   "source": [
    "centroid_obj.name, centroid_obj.geometry"
   ]
  },
  {
   "cell_type": "code",
   "execution_count": 26,
   "metadata": {
    "slideshow": {
     "slide_type": "fragment"
    }
   },
   "outputs": [
    {
     "data": {
      "text/plain": [
       "-48.61704533932971"
      ]
     },
     "execution_count": 26,
     "metadata": {},
     "output_type": "execute_result"
    }
   ],
   "source": [
    "centroid_obj.geometry.x"
   ]
  },
  {
   "cell_type": "code",
   "execution_count": 27,
   "metadata": {
    "slideshow": {
     "slide_type": "fragment"
    }
   },
   "outputs": [
    {
     "data": {
      "text/plain": [
       "-20.52394830288685"
      ]
     },
     "execution_count": 27,
     "metadata": {},
     "output_type": "execute_result"
    }
   ],
   "source": [
    "centroid_obj.geometry.y"
   ]
  },
  {
   "cell_type": "code",
   "execution_count": 28,
   "metadata": {
    "slideshow": {
     "slide_type": "slide"
    }
   },
   "outputs": [
    {
     "data": {
      "text/plain": [
       "{'type': 'Polygon',\n",
       " 'coordinates': [[[-48.613525653306546, -20.53937681474556],\n",
       "   [-48.59982835755458, -20.53250532378005],\n",
       "   [-48.59986834179337, -20.531094920705844],\n",
       "   [-48.59813849321805, -20.5302243839083],\n",
       "   [-48.60390413625537, -20.510849848246412],\n",
       "   [-48.611882887195065, -20.51397370786152],\n",
       "   [-48.61867645882476, -20.50853609705772],\n",
       "   [-48.631333790383366, -20.51596183829656],\n",
       "   [-48.64024386466635, -20.52404692839668],\n",
       "   [-48.62848830785182, -20.532668463505793],\n",
       "   [-48.62031964541333, -20.535536469294023],\n",
       "   [-48.61750706258083, -20.53609043087729],\n",
       "   [-48.613525653306546, -20.53937681474556]]]}"
      ]
     },
     "execution_count": 28,
     "metadata": {},
     "output_type": "execute_result"
    }
   ],
   "source": [
    "shape_geometry"
   ]
  },
  {
   "cell_type": "code",
   "execution_count": 29,
   "metadata": {
    "slideshow": {
     "slide_type": "fragment"
    }
   },
   "outputs": [
    {
     "data": {
      "text/plain": [
       "<Polygon: Polygon object (5)>"
      ]
     },
     "execution_count": 29,
     "metadata": {},
     "output_type": "execute_result"
    }
   ],
   "source": [
    "polygon_obj = models.Polygon.objects.create(\n",
    "    name = 'shape',\n",
    "    geometry = geos.Polygon(shape_geometry['coordinates'][0]),\n",
    ")\n",
    "polygon_obj"
   ]
  },
  {
   "cell_type": "code",
   "execution_count": 30,
   "metadata": {
    "slideshow": {
     "slide_type": "fragment"
    }
   },
   "outputs": [
    {
     "data": {
      "text/plain": [
       "<Polygon object at 0x7fbe5b8264d8>"
      ]
     },
     "execution_count": 30,
     "metadata": {},
     "output_type": "execute_result"
    }
   ],
   "source": [
    "polygon_obj.geometry"
   ]
  },
  {
   "cell_type": "code",
   "execution_count": 31,
   "metadata": {
    "slideshow": {
     "slide_type": "fragment"
    }
   },
   "outputs": [
    {
     "data": {
      "text/plain": [
       "0.0007797729015204063"
      ]
     },
     "execution_count": 31,
     "metadata": {},
     "output_type": "execute_result"
    }
   ],
   "source": [
    "polygon_obj.geometry.area"
   ]
  },
  {
   "cell_type": "code",
   "execution_count": 32,
   "metadata": {
    "slideshow": {
     "slide_type": "slide"
    }
   },
   "outputs": [],
   "source": [
    "qs = models.Polygon.objects.filter(\n",
    "    geometry__contains=centroid_obj.geometry\n",
    ")"
   ]
  },
  {
   "cell_type": "code",
   "execution_count": 33,
   "metadata": {
    "slideshow": {
     "slide_type": "fragment"
    }
   },
   "outputs": [
    {
     "name": "stdout",
     "output_type": "stream",
     "text": [
      "SELECT \"geoapi_polygon\".\"id\", \"geoapi_polygon\".\"name\", \"geoapi_polygon\".\"geometry\"::bytea FROM \"geoapi_polygon\" WHERE ST_Contains(\"geoapi_polygon\".\"geometry\", ST_GeomFromEWKB('\\001\\001\\000\\000 \\346\\020\\000\\000\\000IxW\\373NH\\300\\230\\261\\331y!\\2064\\300'::bytea))\n"
     ]
    }
   ],
   "source": [
    "print(qs.query)"
   ]
  },
  {
   "cell_type": "code",
   "execution_count": 34,
   "metadata": {
    "slideshow": {
     "slide_type": "fragment"
    }
   },
   "outputs": [
    {
     "data": {
      "text/plain": [
       "'shape'"
      ]
     },
     "execution_count": 34,
     "metadata": {},
     "output_type": "execute_result"
    }
   ],
   "source": [
    "qs[0].name"
   ]
  },
  {
   "cell_type": "code",
   "execution_count": 35,
   "metadata": {
    "slideshow": {
     "slide_type": "slide"
    }
   },
   "outputs": [
    {
     "data": {
      "text/html": [
       "<img src=\"https://davidkwast.github.io/slides/geodjango-postgis-drf/img/sql_01.png\"/>"
      ],
      "text/plain": [
       "<IPython.core.display.Image object>"
      ]
     },
     "execution_count": 35,
     "metadata": {},
     "output_type": "execute_result"
    }
   ],
   "source": [
    "display.Image(url=f'{URL_SLIDES}/img/sql_01.png')"
   ]
  }
 ],
 "metadata": {
  "celltoolbar": "Slideshow",
  "kernelspec": {
   "display_name": "Python 3",
   "language": "python",
   "name": "python3"
  },
  "language_info": {
   "codemirror_mode": {
    "name": "ipython",
    "version": 3
   },
   "file_extension": ".py",
   "mimetype": "text/x-python",
   "name": "python",
   "nbconvert_exporter": "python",
   "pygments_lexer": "ipython3",
   "version": "3.7.3"
  }
 },
 "nbformat": 4,
 "nbformat_minor": 2
}
