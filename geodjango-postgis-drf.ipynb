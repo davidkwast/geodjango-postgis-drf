{
 "cells": [
  {
   "cell_type": "markdown",
   "metadata": {
    "slideshow": {
     "slide_type": "slide"
    }
   },
   "source": [
    "# GeoDjango + PostGIS + DRF\n",
    "\n",
    "\n",
    "---\n",
    "---\n",
    "\n",
    "## david@kwast.me\n",
    "\n",
    "### https://SciCrop.com\n",
    "\n",
    "####  Technology Specialist \n",
    "\n",
    "---\n",
    "\n",
    "## https://davidkwast.github.io/slides/geodjango-postgis-drf"
   ]
  },
  {
   "cell_type": "markdown",
   "metadata": {
    "slideshow": {
     "slide_type": "slide"
    }
   },
   "source": [
    "## Código-fonte\n",
    "\n",
    "---\n",
    "\n",
    "### https://github.com/davidkwast/geodjango-postgis-drf"
   ]
  },
  {
   "cell_type": "markdown",
   "metadata": {
    "slideshow": {
     "slide_type": "slide"
    }
   },
   "source": [
    "## Dependências"
   ]
  },
  {
   "cell_type": "code",
   "execution_count": 1,
   "metadata": {
    "scrolled": true,
    "slideshow": {
     "slide_type": "skip"
    }
   },
   "outputs": [],
   "source": [
    "from IPython import display"
   ]
  },
  {
   "cell_type": "code",
   "execution_count": 2,
   "metadata": {
    "scrolled": true
   },
   "outputs": [
    {
     "data": {
      "text/html": [
       "<style>.output_html .hll { background-color: #ffffcc }\n",
       ".output_html  { background: #f8f8f8; }\n",
       ".output_html .c { color: #408080; font-style: italic } /* Comment */\n",
       ".output_html .err { border: 1px solid #FF0000 } /* Error */\n",
       ".output_html .k { color: #008000; font-weight: bold } /* Keyword */\n",
       ".output_html .o { color: #666666 } /* Operator */\n",
       ".output_html .ch { color: #408080; font-style: italic } /* Comment.Hashbang */\n",
       ".output_html .cm { color: #408080; font-style: italic } /* Comment.Multiline */\n",
       ".output_html .cp { color: #BC7A00 } /* Comment.Preproc */\n",
       ".output_html .cpf { color: #408080; font-style: italic } /* Comment.PreprocFile */\n",
       ".output_html .c1 { color: #408080; font-style: italic } /* Comment.Single */\n",
       ".output_html .cs { color: #408080; font-style: italic } /* Comment.Special */\n",
       ".output_html .gd { color: #A00000 } /* Generic.Deleted */\n",
       ".output_html .ge { font-style: italic } /* Generic.Emph */\n",
       ".output_html .gr { color: #FF0000 } /* Generic.Error */\n",
       ".output_html .gh { color: #000080; font-weight: bold } /* Generic.Heading */\n",
       ".output_html .gi { color: #00A000 } /* Generic.Inserted */\n",
       ".output_html .go { color: #888888 } /* Generic.Output */\n",
       ".output_html .gp { color: #000080; font-weight: bold } /* Generic.Prompt */\n",
       ".output_html .gs { font-weight: bold } /* Generic.Strong */\n",
       ".output_html .gu { color: #800080; font-weight: bold } /* Generic.Subheading */\n",
       ".output_html .gt { color: #0044DD } /* Generic.Traceback */\n",
       ".output_html .kc { color: #008000; font-weight: bold } /* Keyword.Constant */\n",
       ".output_html .kd { color: #008000; font-weight: bold } /* Keyword.Declaration */\n",
       ".output_html .kn { color: #008000; font-weight: bold } /* Keyword.Namespace */\n",
       ".output_html .kp { color: #008000 } /* Keyword.Pseudo */\n",
       ".output_html .kr { color: #008000; font-weight: bold } /* Keyword.Reserved */\n",
       ".output_html .kt { color: #B00040 } /* Keyword.Type */\n",
       ".output_html .m { color: #666666 } /* Literal.Number */\n",
       ".output_html .s { color: #BA2121 } /* Literal.String */\n",
       ".output_html .na { color: #7D9029 } /* Name.Attribute */\n",
       ".output_html .nb { color: #008000 } /* Name.Builtin */\n",
       ".output_html .nc { color: #0000FF; font-weight: bold } /* Name.Class */\n",
       ".output_html .no { color: #880000 } /* Name.Constant */\n",
       ".output_html .nd { color: #AA22FF } /* Name.Decorator */\n",
       ".output_html .ni { color: #999999; font-weight: bold } /* Name.Entity */\n",
       ".output_html .ne { color: #D2413A; font-weight: bold } /* Name.Exception */\n",
       ".output_html .nf { color: #0000FF } /* Name.Function */\n",
       ".output_html .nl { color: #A0A000 } /* Name.Label */\n",
       ".output_html .nn { color: #0000FF; font-weight: bold } /* Name.Namespace */\n",
       ".output_html .nt { color: #008000; font-weight: bold } /* Name.Tag */\n",
       ".output_html .nv { color: #19177C } /* Name.Variable */\n",
       ".output_html .ow { color: #AA22FF; font-weight: bold } /* Operator.Word */\n",
       ".output_html .w { color: #bbbbbb } /* Text.Whitespace */\n",
       ".output_html .mb { color: #666666 } /* Literal.Number.Bin */\n",
       ".output_html .mf { color: #666666 } /* Literal.Number.Float */\n",
       ".output_html .mh { color: #666666 } /* Literal.Number.Hex */\n",
       ".output_html .mi { color: #666666 } /* Literal.Number.Integer */\n",
       ".output_html .mo { color: #666666 } /* Literal.Number.Oct */\n",
       ".output_html .sa { color: #BA2121 } /* Literal.String.Affix */\n",
       ".output_html .sb { color: #BA2121 } /* Literal.String.Backtick */\n",
       ".output_html .sc { color: #BA2121 } /* Literal.String.Char */\n",
       ".output_html .dl { color: #BA2121 } /* Literal.String.Delimiter */\n",
       ".output_html .sd { color: #BA2121; font-style: italic } /* Literal.String.Doc */\n",
       ".output_html .s2 { color: #BA2121 } /* Literal.String.Double */\n",
       ".output_html .se { color: #BB6622; font-weight: bold } /* Literal.String.Escape */\n",
       ".output_html .sh { color: #BA2121 } /* Literal.String.Heredoc */\n",
       ".output_html .si { color: #BB6688; font-weight: bold } /* Literal.String.Interpol */\n",
       ".output_html .sx { color: #008000 } /* Literal.String.Other */\n",
       ".output_html .sr { color: #BB6688 } /* Literal.String.Regex */\n",
       ".output_html .s1 { color: #BA2121 } /* Literal.String.Single */\n",
       ".output_html .ss { color: #19177C } /* Literal.String.Symbol */\n",
       ".output_html .bp { color: #008000 } /* Name.Builtin.Pseudo */\n",
       ".output_html .fm { color: #0000FF } /* Name.Function.Magic */\n",
       ".output_html .vc { color: #19177C } /* Name.Variable.Class */\n",
       ".output_html .vg { color: #19177C } /* Name.Variable.Global */\n",
       ".output_html .vi { color: #19177C } /* Name.Variable.Instance */\n",
       ".output_html .vm { color: #19177C } /* Name.Variable.Magic */\n",
       ".output_html .il { color: #666666 } /* Literal.Number.Integer.Long */</style><div class=\"highlight\"><pre><span></span><span class=\"k\">[[source]]</span>\n",
       "<span class=\"n\">name</span> <span class=\"o\">=</span> <span class=\"s\">&quot;pypi&quot;</span>\n",
       "<span class=\"n\">url</span> <span class=\"o\">=</span> <span class=\"s\">&quot;https://pypi.org/simple&quot;</span>\n",
       "<span class=\"n\">verify_ssl</span> <span class=\"o\">=</span> <span class=\"kc\">true</span>\n",
       "\n",
       "<span class=\"k\">[dev-packages]</span>\n",
       "<span class=\"n\">jupyter</span> <span class=\"o\">=</span> <span class=\"s\">&quot;*&quot;</span>\n",
       "<span class=\"n\">ipython</span> <span class=\"o\">=</span> <span class=\"s\">&quot;*&quot;</span>\n",
       "\n",
       "<span class=\"k\">[packages]</span>\n",
       "<span class=\"n\">django</span> <span class=\"o\">=</span> <span class=\"s\">&quot;*&quot;</span>\n",
       "<span class=\"n\">psycopg2-binary</span> <span class=\"o\">=</span> <span class=\"s\">&quot;*&quot;</span>\n",
       "<span class=\"n\">djangorestframework</span> <span class=\"o\">=</span> <span class=\"s\">&quot;*&quot;</span>\n",
       "<span class=\"n\">numpy</span> <span class=\"o\">=</span> <span class=\"s\">&quot;*&quot;</span>\n",
       "<span class=\"n\">gdal</span> <span class=\"o\">=</span> <span class=\"s\">&quot;==2.2.3&quot;</span>\n",
       "\n",
       "<span class=\"k\">[requires]</span>\n",
       "<span class=\"n\">python_version</span> <span class=\"o\">=</span> <span class=\"s\">&quot;3.7&quot;</span>\n",
       "</pre></div>\n"
      ],
      "text/latex": [
       "\\begin{Verbatim}[commandchars=\\\\\\{\\}]\n",
       "\\PY{k}{[[source]]}\n",
       "\\PY{n}{name} \\PY{o}{=} \\PY{l+s}{\\PYZdq{}pypi\\PYZdq{}}\n",
       "\\PY{n}{url} \\PY{o}{=} \\PY{l+s}{\\PYZdq{}https://pypi.org/simple\\PYZdq{}}\n",
       "\\PY{n}{verify\\PYZus{}ssl} \\PY{o}{=} \\PY{k+kc}{true}\n",
       "\n",
       "\\PY{k}{[dev\\PYZhy{}packages]}\n",
       "\\PY{n}{jupyter} \\PY{o}{=} \\PY{l+s}{\\PYZdq{}*\\PYZdq{}}\n",
       "\\PY{n}{ipython} \\PY{o}{=} \\PY{l+s}{\\PYZdq{}*\\PYZdq{}}\n",
       "\n",
       "\\PY{k}{[packages]}\n",
       "\\PY{n}{django} \\PY{o}{=} \\PY{l+s}{\\PYZdq{}*\\PYZdq{}}\n",
       "\\PY{n}{psycopg2\\PYZhy{}binary} \\PY{o}{=} \\PY{l+s}{\\PYZdq{}*\\PYZdq{}}\n",
       "\\PY{n}{djangorestframework} \\PY{o}{=} \\PY{l+s}{\\PYZdq{}*\\PYZdq{}}\n",
       "\\PY{n}{numpy} \\PY{o}{=} \\PY{l+s}{\\PYZdq{}*\\PYZdq{}}\n",
       "\\PY{n}{gdal} \\PY{o}{=} \\PY{l+s}{\\PYZdq{}==2.2.3\\PYZdq{}}\n",
       "\n",
       "\\PY{k}{[requires]}\n",
       "\\PY{n}{python\\PYZus{}version} \\PY{o}{=} \\PY{l+s}{\\PYZdq{}3.7\\PYZdq{}}\n",
       "\\end{Verbatim}\n"
      ],
      "text/plain": [
       "[[source]]\n",
       "name = \"pypi\"\n",
       "url = \"https://pypi.org/simple\"\n",
       "verify_ssl = true\n",
       "\n",
       "[dev-packages]\n",
       "jupyter = \"*\"\n",
       "ipython = \"*\"\n",
       "\n",
       "[packages]\n",
       "django = \"*\"\n",
       "psycopg2-binary = \"*\"\n",
       "djangorestframework = \"*\"\n",
       "numpy = \"*\"\n",
       "gdal = \"==2.2.3\"\n",
       "\n",
       "[requires]\n",
       "python_version = \"3.7\""
      ]
     },
     "execution_count": 2,
     "metadata": {},
     "output_type": "execute_result"
    }
   ],
   "source": [
    "display.Code(filename='./Pipfile', language='toml')"
   ]
  },
  {
   "cell_type": "markdown",
   "metadata": {},
   "source": [
    "\\* Ubuntu 18.04"
   ]
  },
  {
   "cell_type": "markdown",
   "metadata": {
    "slideshow": {
     "slide_type": "subslide"
    }
   },
   "source": [
    "### GDAL\n",
    "a translator library for raster and vector geospatial data formats \n",
    "\n",
    "#### Sistema Operacional\n",
    "\n",
    "```console\n",
    "foo@bar:~$ apt install gdal-bin libgdal-dev\n",
    "\n",
    "foo@bar:~$ gdalinfo --version\n",
    "GDAL 2.2.3, released 2017/11/20\n",
    "```\n",
    "\n",
    "#### Pip(Env)\n",
    "\n",
    "```console\n",
    "foo@bar:~$ pipenv install numpy\n",
    "\n",
    "foo@bar:~$ export CPLUS_INCLUDE_PATH=/usr/include/gdal\n",
    "foo@bar:~$ export C_INCLUDE_PATH=/usr/include/gdal\n",
    "foo@bar:~$ pipenv install \"gdal==2.2.3\"\n",
    "```\n",
    "\n",
    "#### Python\n",
    "\n",
    "```python\n",
    "from osgeo import gdal; gdal.UseExceptions() # type: ignore\n",
    "from osgeo import ogr; ogr.UseExceptions() # type: ignore\n",
    "```\n",
    "\n",
    "---\n",
    "\n",
    "- https://gdal.org/python/\n",
    "- https://gdal.org/about.html#what-is-gdal"
   ]
  },
  {
   "cell_type": "markdown",
   "metadata": {
    "slideshow": {
     "slide_type": "subslide"
    }
   },
   "source": [
    "### PostgreSQL + PostGIS\n",
    "\n",
    "\n",
    "#### Python\n",
    "\n",
    "```console\n",
    "foo@bar:~$ pipenv install psycopg2-binary\n",
    "```\n",
    "\n",
    "#### SQL\n",
    "\n",
    "```SQL\n",
    "CREATE EXTENSION POSTGIS;\n",
    "```\n",
    "\n",
    "---\n",
    "\n",
    "- https://pypi.org/project/psycopg2-binary/\n",
    "  - The binary package is a practical choice for development and testing but in production it is advised to use the package built from sources.\n",
    "- https://postgis.net/documentation/"
   ]
  },
  {
   "cell_type": "markdown",
   "metadata": {
    "slideshow": {
     "slide_type": "subslide"
    }
   },
   "source": [
    "### Django + GeoDjango\n",
    "\n",
    "#### settings.py\n",
    "```python\n",
    "...\n",
    "INSTALLED_APPS = [\n",
    "    ...\n",
    "    'django.contrib.gis',\n",
    "    ...\n",
    "]\n",
    "...\n",
    "DATABASES = {\n",
    "    'default': {\n",
    "        'ENGINE': 'django.contrib.gis.db.backends.postgis',\n",
    "        ...\n",
    "    },\n",
    "}\n",
    "...\n",
    "```\n",
    "\n",
    "#### models.py\n",
    "```python\n",
    "from django.contrib.gis.db import models\n",
    "```\n",
    "---\n",
    "\n",
    "- https://docs.djangoproject.com/en/2.2/ref/contrib/gis/"
   ]
  },
  {
   "cell_type": "markdown",
   "metadata": {
    "slideshow": {
     "slide_type": "slide"
    }
   },
   "source": [
    "## Django\n",
    "\n",
    "### shell\n",
    "```console\n",
    "foo@bar:~$ django-admin startproject restgis .\n",
    "\n",
    "foo@bar:~$ mkdir restgis/geoapi\n",
    "\n",
    "foo@bar:~$ python manage.py startapp geoapi restgis/geoapi\n",
    "```\n",
    "\n",
    "---\n",
    "- https://docs.python-guide.org/writing/structure/#regarding-django-applications"
   ]
  },
  {
   "cell_type": "markdown",
   "metadata": {
    "slideshow": {
     "slide_type": "subslide"
    }
   },
   "source": [
    "```console\n",
    "\n",
    "foo@bar:~$ ls -l restgis/\n",
    "total 16\n",
    "drwxrwxr-x 3 kwast kwast 4096 mai 24 16:40 geoapi\n",
    "-rw-rw-r-- 1 kwast kwast    0 mai 24 16:37 __init__.py\n",
    "-rw-rw-r-- 1 kwast kwast 3091 mai 24 16:37 settings.py\n",
    "-rw-rw-r-- 1 kwast kwast  749 mai 24 16:37 urls.py\n",
    "-rw-rw-r-- 1 kwast kwast  391 mai 24 16:37 wsgi.py\n",
    "\n",
    "foo@bar:~$ ls -l restgis/geoapi/\n",
    "total 24\n",
    "-rw-rw-r-- 1 kwast kwast   63 mai 24 16:40 admin.py\n",
    "-rw-rw-r-- 1 kwast kwast   87 mai 24 16:40 apps.py\n",
    "-rw-rw-r-- 1 kwast kwast    0 mai 24 16:40 __init__.py\n",
    "drwxrwxr-x 2 kwast kwast 4096 mai 24 16:40 migrations\n",
    "-rw-rw-r-- 1 kwast kwast   57 mai 24 16:40 models.py\n",
    "-rw-rw-r-- 1 kwast kwast   60 mai 24 16:40 tests.py\n",
    "-rw-rw-r-- 1 kwast kwast   63 mai 24 16:40 views.py\n",
    "```"
   ]
  },
  {
   "cell_type": "code",
   "execution_count": 6,
   "metadata": {
    "slideshow": {
     "slide_type": "slide"
    }
   },
   "outputs": [
    {
     "data": {
      "text/html": [
       "<style>.output_html .hll { background-color: #ffffcc }\n",
       ".output_html  { background: #f8f8f8; }\n",
       ".output_html .c { color: #408080; font-style: italic } /* Comment */\n",
       ".output_html .err { border: 1px solid #FF0000 } /* Error */\n",
       ".output_html .k { color: #008000; font-weight: bold } /* Keyword */\n",
       ".output_html .o { color: #666666 } /* Operator */\n",
       ".output_html .ch { color: #408080; font-style: italic } /* Comment.Hashbang */\n",
       ".output_html .cm { color: #408080; font-style: italic } /* Comment.Multiline */\n",
       ".output_html .cp { color: #BC7A00 } /* Comment.Preproc */\n",
       ".output_html .cpf { color: #408080; font-style: italic } /* Comment.PreprocFile */\n",
       ".output_html .c1 { color: #408080; font-style: italic } /* Comment.Single */\n",
       ".output_html .cs { color: #408080; font-style: italic } /* Comment.Special */\n",
       ".output_html .gd { color: #A00000 } /* Generic.Deleted */\n",
       ".output_html .ge { font-style: italic } /* Generic.Emph */\n",
       ".output_html .gr { color: #FF0000 } /* Generic.Error */\n",
       ".output_html .gh { color: #000080; font-weight: bold } /* Generic.Heading */\n",
       ".output_html .gi { color: #00A000 } /* Generic.Inserted */\n",
       ".output_html .go { color: #888888 } /* Generic.Output */\n",
       ".output_html .gp { color: #000080; font-weight: bold } /* Generic.Prompt */\n",
       ".output_html .gs { font-weight: bold } /* Generic.Strong */\n",
       ".output_html .gu { color: #800080; font-weight: bold } /* Generic.Subheading */\n",
       ".output_html .gt { color: #0044DD } /* Generic.Traceback */\n",
       ".output_html .kc { color: #008000; font-weight: bold } /* Keyword.Constant */\n",
       ".output_html .kd { color: #008000; font-weight: bold } /* Keyword.Declaration */\n",
       ".output_html .kn { color: #008000; font-weight: bold } /* Keyword.Namespace */\n",
       ".output_html .kp { color: #008000 } /* Keyword.Pseudo */\n",
       ".output_html .kr { color: #008000; font-weight: bold } /* Keyword.Reserved */\n",
       ".output_html .kt { color: #B00040 } /* Keyword.Type */\n",
       ".output_html .m { color: #666666 } /* Literal.Number */\n",
       ".output_html .s { color: #BA2121 } /* Literal.String */\n",
       ".output_html .na { color: #7D9029 } /* Name.Attribute */\n",
       ".output_html .nb { color: #008000 } /* Name.Builtin */\n",
       ".output_html .nc { color: #0000FF; font-weight: bold } /* Name.Class */\n",
       ".output_html .no { color: #880000 } /* Name.Constant */\n",
       ".output_html .nd { color: #AA22FF } /* Name.Decorator */\n",
       ".output_html .ni { color: #999999; font-weight: bold } /* Name.Entity */\n",
       ".output_html .ne { color: #D2413A; font-weight: bold } /* Name.Exception */\n",
       ".output_html .nf { color: #0000FF } /* Name.Function */\n",
       ".output_html .nl { color: #A0A000 } /* Name.Label */\n",
       ".output_html .nn { color: #0000FF; font-weight: bold } /* Name.Namespace */\n",
       ".output_html .nt { color: #008000; font-weight: bold } /* Name.Tag */\n",
       ".output_html .nv { color: #19177C } /* Name.Variable */\n",
       ".output_html .ow { color: #AA22FF; font-weight: bold } /* Operator.Word */\n",
       ".output_html .w { color: #bbbbbb } /* Text.Whitespace */\n",
       ".output_html .mb { color: #666666 } /* Literal.Number.Bin */\n",
       ".output_html .mf { color: #666666 } /* Literal.Number.Float */\n",
       ".output_html .mh { color: #666666 } /* Literal.Number.Hex */\n",
       ".output_html .mi { color: #666666 } /* Literal.Number.Integer */\n",
       ".output_html .mo { color: #666666 } /* Literal.Number.Oct */\n",
       ".output_html .sa { color: #BA2121 } /* Literal.String.Affix */\n",
       ".output_html .sb { color: #BA2121 } /* Literal.String.Backtick */\n",
       ".output_html .sc { color: #BA2121 } /* Literal.String.Char */\n",
       ".output_html .dl { color: #BA2121 } /* Literal.String.Delimiter */\n",
       ".output_html .sd { color: #BA2121; font-style: italic } /* Literal.String.Doc */\n",
       ".output_html .s2 { color: #BA2121 } /* Literal.String.Double */\n",
       ".output_html .se { color: #BB6622; font-weight: bold } /* Literal.String.Escape */\n",
       ".output_html .sh { color: #BA2121 } /* Literal.String.Heredoc */\n",
       ".output_html .si { color: #BB6688; font-weight: bold } /* Literal.String.Interpol */\n",
       ".output_html .sx { color: #008000 } /* Literal.String.Other */\n",
       ".output_html .sr { color: #BB6688 } /* Literal.String.Regex */\n",
       ".output_html .s1 { color: #BA2121 } /* Literal.String.Single */\n",
       ".output_html .ss { color: #19177C } /* Literal.String.Symbol */\n",
       ".output_html .bp { color: #008000 } /* Name.Builtin.Pseudo */\n",
       ".output_html .fm { color: #0000FF } /* Name.Function.Magic */\n",
       ".output_html .vc { color: #19177C } /* Name.Variable.Class */\n",
       ".output_html .vg { color: #19177C } /* Name.Variable.Global */\n",
       ".output_html .vi { color: #19177C } /* Name.Variable.Instance */\n",
       ".output_html .vm { color: #19177C } /* Name.Variable.Magic */\n",
       ".output_html .il { color: #666666 } /* Literal.Number.Integer.Long */</style><div class=\"highlight\"><pre><span></span><span class=\"kn\">from</span> <span class=\"nn\">django.contrib.gis.db</span> <span class=\"kn\">import</span> <span class=\"n\">models</span>\n",
       "</pre></div>\n"
      ],
      "text/latex": [
       "\\begin{Verbatim}[commandchars=\\\\\\{\\}]\n",
       "\\PY{k+kn}{from} \\PY{n+nn}{django.contrib.gis.db} \\PY{k+kn}{import} \\PY{n}{models}\n",
       "\\end{Verbatim}\n"
      ],
      "text/plain": [
       "from django.contrib.gis.db import models"
      ]
     },
     "execution_count": 6,
     "metadata": {},
     "output_type": "execute_result"
    }
   ],
   "source": [
    "display.Code(filename='./restgis/geoapi/models.py')"
   ]
  },
  {
   "cell_type": "code",
   "execution_count": null,
   "metadata": {},
   "outputs": [],
   "source": [
    "---\n",
    "- https://docs.djangoproject.com/en/2.2/ref/contrib/gis/model-api/"
   ]
  },
  {
   "cell_type": "code",
   "execution_count": null,
   "metadata": {},
   "outputs": [],
   "source": []
  },
  {
   "cell_type": "code",
   "execution_count": null,
   "metadata": {},
   "outputs": [],
   "source": []
  },
  {
   "cell_type": "code",
   "execution_count": null,
   "metadata": {},
   "outputs": [],
   "source": []
  },
  {
   "cell_type": "code",
   "execution_count": null,
   "metadata": {},
   "outputs": [],
   "source": []
  },
  {
   "cell_type": "code",
   "execution_count": null,
   "metadata": {},
   "outputs": [],
   "source": []
  }
 ],
 "metadata": {
  "celltoolbar": "Slideshow",
  "kernelspec": {
   "display_name": "Python 3",
   "language": "python",
   "name": "python3"
  },
  "language_info": {
   "codemirror_mode": {
    "name": "ipython",
    "version": 3
   },
   "file_extension": ".py",
   "mimetype": "text/x-python",
   "name": "python",
   "nbconvert_exporter": "python",
   "pygments_lexer": "ipython3",
   "version": "3.7.3"
  }
 },
 "nbformat": 4,
 "nbformat_minor": 2
}
